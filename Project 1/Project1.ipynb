{
 "cells": [
  {
   "cell_type": "markdown",
   "metadata": {},
   "source": [
    "# Project 1 - Earnings, Gender, Education and Ability\n",
    "## Professor: Costas Meghir. Econometrics 123, Fall 2019.  \n",
    "### Author: Alexander Jeremijenko"
   ]
  },
  {
   "cell_type": "markdown",
   "metadata": {},
   "source": [
    "In this report we will be analyzing a dataset tracking the wages of Swedish individuals born in either '48 or '53 as well as their various characteristics. The key questions which this report aims to answer are: \n",
    "1. What are the returns to education and how do they differ by gender?\n",
    "2. How is the time/age profile of earnings shaped by education?\n",
    "3. What are the differences between men and women in educational attainment and career profiles of earnings and how does the gender gap change with age?\n",
    "4. What is the role of ability  in shaping the returns to education? Does this differ by gender\n",
    "\n",
    "As a first step, we will clean and transform the data into a form more conducive to the goals of this report. The body of the report will then begin below. "
   ]
  },
  {
   "cell_type": "code",
   "execution_count": 2,
   "metadata": {},
   "outputs": [],
   "source": [
    "# including relevant libraries\n",
    "import pandas as pd\n",
    "import numpy as np\n",
    "import matplotlib.pyplot as plt\n",
    "import statsmodels.api as sm\n",
    "from scipy.stats import pearsonr"
   ]
  },
  {
   "cell_type": "code",
   "execution_count": 3,
   "metadata": {},
   "outputs": [
    {
     "name": "stdout",
     "output_type": "stream",
     "text": [
      "The cleaned data:\n"
     ]
    },
    {
     "data": {
      "text/html": [
       "<div>\n",
       "<style scoped>\n",
       "    .dataframe tbody tr th:only-of-type {\n",
       "        vertical-align: middle;\n",
       "    }\n",
       "\n",
       "    .dataframe tbody tr th {\n",
       "        vertical-align: top;\n",
       "    }\n",
       "\n",
       "    .dataframe thead th {\n",
       "        text-align: right;\n",
       "    }\n",
       "</style>\n",
       "<table border=\"1\" class=\"dataframe\">\n",
       "  <thead>\n",
       "    <tr style=\"text-align: right;\">\n",
       "      <th></th>\n",
       "      <th>const</th>\n",
       "      <th>d53</th>\n",
       "      <th>female</th>\n",
       "      <th>reform</th>\n",
       "      <th>fe</th>\n",
       "      <th>abil1</th>\n",
       "      <th>age</th>\n",
       "      <th>secondary</th>\n",
       "      <th>tertiary</th>\n",
       "      <th>doctorate</th>\n",
       "      <th>...</th>\n",
       "      <th>cou_22.0</th>\n",
       "      <th>cou_23.0</th>\n",
       "      <th>cou_24.0</th>\n",
       "      <th>cou_3.0</th>\n",
       "      <th>cou_4.0</th>\n",
       "      <th>cou_5.0</th>\n",
       "      <th>cou_6.0</th>\n",
       "      <th>cou_7.0</th>\n",
       "      <th>cou_8.0</th>\n",
       "      <th>cou_9.0</th>\n",
       "    </tr>\n",
       "  </thead>\n",
       "  <tbody>\n",
       "    <tr>\n",
       "      <th>0</th>\n",
       "      <td>1.0</td>\n",
       "      <td>0</td>\n",
       "      <td>0.0</td>\n",
       "      <td>0.0</td>\n",
       "      <td>2.0</td>\n",
       "      <td>0.101577</td>\n",
       "      <td>47</td>\n",
       "      <td>1</td>\n",
       "      <td>0</td>\n",
       "      <td>0</td>\n",
       "      <td>...</td>\n",
       "      <td>0</td>\n",
       "      <td>0</td>\n",
       "      <td>0</td>\n",
       "      <td>0</td>\n",
       "      <td>0</td>\n",
       "      <td>0</td>\n",
       "      <td>0</td>\n",
       "      <td>0</td>\n",
       "      <td>0</td>\n",
       "      <td>0</td>\n",
       "    </tr>\n",
       "    <tr>\n",
       "      <th>1</th>\n",
       "      <td>1.0</td>\n",
       "      <td>0</td>\n",
       "      <td>0.0</td>\n",
       "      <td>0.0</td>\n",
       "      <td>1.0</td>\n",
       "      <td>-1.033465</td>\n",
       "      <td>37</td>\n",
       "      <td>0</td>\n",
       "      <td>0</td>\n",
       "      <td>0</td>\n",
       "      <td>...</td>\n",
       "      <td>0</td>\n",
       "      <td>0</td>\n",
       "      <td>0</td>\n",
       "      <td>0</td>\n",
       "      <td>0</td>\n",
       "      <td>0</td>\n",
       "      <td>0</td>\n",
       "      <td>0</td>\n",
       "      <td>0</td>\n",
       "      <td>0</td>\n",
       "    </tr>\n",
       "    <tr>\n",
       "      <th>2</th>\n",
       "      <td>1.0</td>\n",
       "      <td>0</td>\n",
       "      <td>0.0</td>\n",
       "      <td>0.0</td>\n",
       "      <td>1.0</td>\n",
       "      <td>3.640584</td>\n",
       "      <td>38</td>\n",
       "      <td>1</td>\n",
       "      <td>0</td>\n",
       "      <td>0</td>\n",
       "      <td>...</td>\n",
       "      <td>0</td>\n",
       "      <td>0</td>\n",
       "      <td>0</td>\n",
       "      <td>0</td>\n",
       "      <td>0</td>\n",
       "      <td>0</td>\n",
       "      <td>0</td>\n",
       "      <td>0</td>\n",
       "      <td>0</td>\n",
       "      <td>0</td>\n",
       "    </tr>\n",
       "    <tr>\n",
       "      <th>3</th>\n",
       "      <td>1.0</td>\n",
       "      <td>0</td>\n",
       "      <td>0.0</td>\n",
       "      <td>0.0</td>\n",
       "      <td>1.0</td>\n",
       "      <td>2.233250</td>\n",
       "      <td>44</td>\n",
       "      <td>1</td>\n",
       "      <td>0</td>\n",
       "      <td>0</td>\n",
       "      <td>...</td>\n",
       "      <td>0</td>\n",
       "      <td>0</td>\n",
       "      <td>0</td>\n",
       "      <td>0</td>\n",
       "      <td>0</td>\n",
       "      <td>0</td>\n",
       "      <td>0</td>\n",
       "      <td>0</td>\n",
       "      <td>0</td>\n",
       "      <td>0</td>\n",
       "    </tr>\n",
       "    <tr>\n",
       "      <th>4</th>\n",
       "      <td>1.0</td>\n",
       "      <td>0</td>\n",
       "      <td>1.0</td>\n",
       "      <td>0.0</td>\n",
       "      <td>1.0</td>\n",
       "      <td>-0.302084</td>\n",
       "      <td>46</td>\n",
       "      <td>0</td>\n",
       "      <td>0</td>\n",
       "      <td>0</td>\n",
       "      <td>...</td>\n",
       "      <td>0</td>\n",
       "      <td>0</td>\n",
       "      <td>0</td>\n",
       "      <td>0</td>\n",
       "      <td>0</td>\n",
       "      <td>0</td>\n",
       "      <td>0</td>\n",
       "      <td>0</td>\n",
       "      <td>0</td>\n",
       "      <td>0</td>\n",
       "    </tr>\n",
       "    <tr>\n",
       "      <th>...</th>\n",
       "      <td>...</td>\n",
       "      <td>...</td>\n",
       "      <td>...</td>\n",
       "      <td>...</td>\n",
       "      <td>...</td>\n",
       "      <td>...</td>\n",
       "      <td>...</td>\n",
       "      <td>...</td>\n",
       "      <td>...</td>\n",
       "      <td>...</td>\n",
       "      <td>...</td>\n",
       "      <td>...</td>\n",
       "      <td>...</td>\n",
       "      <td>...</td>\n",
       "      <td>...</td>\n",
       "      <td>...</td>\n",
       "      <td>...</td>\n",
       "      <td>...</td>\n",
       "      <td>...</td>\n",
       "      <td>...</td>\n",
       "      <td>...</td>\n",
       "    </tr>\n",
       "    <tr>\n",
       "      <th>206559</th>\n",
       "      <td>1.0</td>\n",
       "      <td>1</td>\n",
       "      <td>0.0</td>\n",
       "      <td>1.0</td>\n",
       "      <td>1.0</td>\n",
       "      <td>-1.873930</td>\n",
       "      <td>50</td>\n",
       "      <td>0</td>\n",
       "      <td>0</td>\n",
       "      <td>0</td>\n",
       "      <td>...</td>\n",
       "      <td>0</td>\n",
       "      <td>0</td>\n",
       "      <td>0</td>\n",
       "      <td>0</td>\n",
       "      <td>0</td>\n",
       "      <td>0</td>\n",
       "      <td>0</td>\n",
       "      <td>0</td>\n",
       "      <td>0</td>\n",
       "      <td>0</td>\n",
       "    </tr>\n",
       "    <tr>\n",
       "      <th>206560</th>\n",
       "      <td>1.0</td>\n",
       "      <td>1</td>\n",
       "      <td>1.0</td>\n",
       "      <td>1.0</td>\n",
       "      <td>0.0</td>\n",
       "      <td>-1.243812</td>\n",
       "      <td>49</td>\n",
       "      <td>0</td>\n",
       "      <td>0</td>\n",
       "      <td>0</td>\n",
       "      <td>...</td>\n",
       "      <td>0</td>\n",
       "      <td>0</td>\n",
       "      <td>0</td>\n",
       "      <td>1</td>\n",
       "      <td>0</td>\n",
       "      <td>0</td>\n",
       "      <td>0</td>\n",
       "      <td>0</td>\n",
       "      <td>0</td>\n",
       "      <td>0</td>\n",
       "    </tr>\n",
       "    <tr>\n",
       "      <th>206561</th>\n",
       "      <td>1.0</td>\n",
       "      <td>1</td>\n",
       "      <td>0.0</td>\n",
       "      <td>1.0</td>\n",
       "      <td>1.0</td>\n",
       "      <td>2.451722</td>\n",
       "      <td>47</td>\n",
       "      <td>1</td>\n",
       "      <td>0</td>\n",
       "      <td>0</td>\n",
       "      <td>...</td>\n",
       "      <td>0</td>\n",
       "      <td>0</td>\n",
       "      <td>0</td>\n",
       "      <td>0</td>\n",
       "      <td>0</td>\n",
       "      <td>0</td>\n",
       "      <td>0</td>\n",
       "      <td>0</td>\n",
       "      <td>1</td>\n",
       "      <td>0</td>\n",
       "    </tr>\n",
       "    <tr>\n",
       "      <th>206562</th>\n",
       "      <td>1.0</td>\n",
       "      <td>0</td>\n",
       "      <td>0.0</td>\n",
       "      <td>1.0</td>\n",
       "      <td>1.0</td>\n",
       "      <td>-0.209572</td>\n",
       "      <td>37</td>\n",
       "      <td>0</td>\n",
       "      <td>0</td>\n",
       "      <td>0</td>\n",
       "      <td>...</td>\n",
       "      <td>0</td>\n",
       "      <td>0</td>\n",
       "      <td>0</td>\n",
       "      <td>0</td>\n",
       "      <td>0</td>\n",
       "      <td>0</td>\n",
       "      <td>0</td>\n",
       "      <td>0</td>\n",
       "      <td>0</td>\n",
       "      <td>0</td>\n",
       "    </tr>\n",
       "    <tr>\n",
       "      <th>206563</th>\n",
       "      <td>1.0</td>\n",
       "      <td>0</td>\n",
       "      <td>1.0</td>\n",
       "      <td>1.0</td>\n",
       "      <td>1.0</td>\n",
       "      <td>2.761358</td>\n",
       "      <td>42</td>\n",
       "      <td>1</td>\n",
       "      <td>0</td>\n",
       "      <td>0</td>\n",
       "      <td>...</td>\n",
       "      <td>0</td>\n",
       "      <td>0</td>\n",
       "      <td>0</td>\n",
       "      <td>0</td>\n",
       "      <td>0</td>\n",
       "      <td>1</td>\n",
       "      <td>0</td>\n",
       "      <td>0</td>\n",
       "      <td>0</td>\n",
       "      <td>0</td>\n",
       "    </tr>\n",
       "  </tbody>\n",
       "</table>\n",
       "<p>206487 rows × 36 columns</p>\n",
       "</div>"
      ],
      "text/plain": [
       "        const  d53  female  reform   fe     abil1  age  secondary  tertiary  \\\n",
       "0         1.0    0     0.0     0.0  2.0  0.101577   47          1         0   \n",
       "1         1.0    0     0.0     0.0  1.0 -1.033465   37          0         0   \n",
       "2         1.0    0     0.0     0.0  1.0  3.640584   38          1         0   \n",
       "3         1.0    0     0.0     0.0  1.0  2.233250   44          1         0   \n",
       "4         1.0    0     1.0     0.0  1.0 -0.302084   46          0         0   \n",
       "...       ...  ...     ...     ...  ...       ...  ...        ...       ...   \n",
       "206559    1.0    1     0.0     1.0  1.0 -1.873930   50          0         0   \n",
       "206560    1.0    1     1.0     1.0  0.0 -1.243812   49          0         0   \n",
       "206561    1.0    1     0.0     1.0  1.0  2.451722   47          1         0   \n",
       "206562    1.0    0     0.0     1.0  1.0 -0.209572   37          0         0   \n",
       "206563    1.0    0     1.0     1.0  1.0  2.761358   42          1         0   \n",
       "\n",
       "        doctorate  ...  cou_22.0  cou_23.0  cou_24.0  cou_3.0  cou_4.0  \\\n",
       "0               0  ...         0         0         0        0        0   \n",
       "1               0  ...         0         0         0        0        0   \n",
       "2               0  ...         0         0         0        0        0   \n",
       "3               0  ...         0         0         0        0        0   \n",
       "4               0  ...         0         0         0        0        0   \n",
       "...           ...  ...       ...       ...       ...      ...      ...   \n",
       "206559          0  ...         0         0         0        0        0   \n",
       "206560          0  ...         0         0         0        1        0   \n",
       "206561          0  ...         0         0         0        0        0   \n",
       "206562          0  ...         0         0         0        0        0   \n",
       "206563          0  ...         0         0         0        0        0   \n",
       "\n",
       "        cou_5.0  cou_6.0  cou_7.0  cou_8.0  cou_9.0  \n",
       "0             0        0        0        0        0  \n",
       "1             0        0        0        0        0  \n",
       "2             0        0        0        0        0  \n",
       "3             0        0        0        0        0  \n",
       "4             0        0        0        0        0  \n",
       "...         ...      ...      ...      ...      ...  \n",
       "206559        0        0        0        0        0  \n",
       "206560        0        0        0        0        0  \n",
       "206561        0        0        0        1        0  \n",
       "206562        0        0        0        0        0  \n",
       "206563        1        0        0        0        0  \n",
       "\n",
       "[206487 rows x 36 columns]"
      ]
     },
     "metadata": {},
     "output_type": "display_data"
    },
    {
     "data": {
      "text/html": [
       "<div>\n",
       "<style scoped>\n",
       "    .dataframe tbody tr th:only-of-type {\n",
       "        vertical-align: middle;\n",
       "    }\n",
       "\n",
       "    .dataframe tbody tr th {\n",
       "        vertical-align: top;\n",
       "    }\n",
       "\n",
       "    .dataframe thead th {\n",
       "        text-align: right;\n",
       "    }\n",
       "</style>\n",
       "<table border=\"1\" class=\"dataframe\">\n",
       "  <thead>\n",
       "    <tr style=\"text-align: right;\">\n",
       "      <th></th>\n",
       "      <th>lnearn</th>\n",
       "    </tr>\n",
       "  </thead>\n",
       "  <tbody>\n",
       "    <tr>\n",
       "      <th>0</th>\n",
       "      <td>7.214887</td>\n",
       "    </tr>\n",
       "    <tr>\n",
       "      <th>1</th>\n",
       "      <td>7.084095</td>\n",
       "    </tr>\n",
       "    <tr>\n",
       "      <th>2</th>\n",
       "      <td>7.547388</td>\n",
       "    </tr>\n",
       "    <tr>\n",
       "      <th>3</th>\n",
       "      <td>7.182854</td>\n",
       "    </tr>\n",
       "    <tr>\n",
       "      <th>4</th>\n",
       "      <td>6.940650</td>\n",
       "    </tr>\n",
       "    <tr>\n",
       "      <th>...</th>\n",
       "      <td>...</td>\n",
       "    </tr>\n",
       "    <tr>\n",
       "      <th>206559</th>\n",
       "      <td>7.071156</td>\n",
       "    </tr>\n",
       "    <tr>\n",
       "      <th>206560</th>\n",
       "      <td>7.260047</td>\n",
       "    </tr>\n",
       "    <tr>\n",
       "      <th>206561</th>\n",
       "      <td>5.429913</td>\n",
       "    </tr>\n",
       "    <tr>\n",
       "      <th>206562</th>\n",
       "      <td>6.918771</td>\n",
       "    </tr>\n",
       "    <tr>\n",
       "      <th>206563</th>\n",
       "      <td>7.176990</td>\n",
       "    </tr>\n",
       "  </tbody>\n",
       "</table>\n",
       "<p>206487 rows × 1 columns</p>\n",
       "</div>"
      ],
      "text/plain": [
       "          lnearn\n",
       "0       7.214887\n",
       "1       7.084095\n",
       "2       7.547388\n",
       "3       7.182854\n",
       "4       6.940650\n",
       "...          ...\n",
       "206559  7.071156\n",
       "206560  7.260047\n",
       "206561  5.429913\n",
       "206562  6.918771\n",
       "206563  7.176990\n",
       "\n",
       "[206487 rows x 1 columns]"
      ]
     },
     "metadata": {},
     "output_type": "display_data"
    },
    {
     "name": "stdout",
     "output_type": "stream",
     "text": [
      "field names are: \n",
      " ['const', 'd53', 'female', 'reform', 'fe', 'abil1', 'age', 'secondary', 'tertiary', 'doctorate', 'fem_secondary', 'fem_tertiary', 'fem_doctorate', 'cou_1.0', 'cou_10.0', 'cou_11.0', 'cou_12.0', 'cou_13.0', 'cou_14.0', 'cou_15.0', 'cou_16.0', 'cou_17.0', 'cou_18.0', 'cou_19.0', 'cou_20.0', 'cou_21.0', 'cou_22.0', 'cou_23.0', 'cou_24.0', 'cou_3.0', 'cou_4.0', 'cou_5.0', 'cou_6.0', 'cou_7.0', 'cou_8.0', 'cou_9.0']\n"
     ]
    }
   ],
   "source": [
    "# Importing the data\n",
    "egea_df = pd.read_stata('Econ123proj2018.dta')\n",
    "# From inflation.eu/en/inflation_rates/sweden\n",
    "inflation_dic = {85: 1.0563, 86: 1.0332, 87: 1.0513, 88: 1.0598, 89: 1.0662, 90: 1.1090, \n",
    "                 91: 1.0792, 92: 1.0186, 93: 1.0408, 94: 1.0247, 95: 1.0211, 96: 0.9979}\n",
    "\n",
    "# Defining function to transform the dictionary values into more useful scalar values\n",
    "def inflation_transform(dic):\n",
    "    for key in dic.keys():\n",
    "        if key != min(dic.keys()):\n",
    "            dic[key] = dic[key] * dic[key - 1]\n",
    "    dic = {k: 1/dic[k] for k in dic.keys()}\n",
    "    return dic\n",
    "inflation_dic = inflation_transform(inflation_dic)\n",
    "\n",
    "# adjusting earnings for inflation then recalculating lnearn\n",
    "egea_df = egea_df[egea_df.earn > 1]\n",
    "egea_df = egea_df.assign(inf_earn = lambda x: x.earn * x.year.map(inflation_dic))\n",
    "egea_df['lnearn'] = np.log(egea_df['inf_earn'])\n",
    "\n",
    "# Creating ages based on birth cohort and year sampled\n",
    "egea_df = egea_df.assign(age = lambda x: x.year - 48 + (x.d53*5))\n",
    "\n",
    "# Dropping all Nan values of yearsch (level = 8,9)\n",
    "egea_df = egea_df[~((egea_df.level == 9) | (egea_df.level == 8))]\n",
    "\n",
    "# converting level into dummies for ['compulsory', 'secondary', 'tertiary', 'phd']\n",
    "egea_df['compulsory'] = np.where((egea_df.level == 1) | (egea_df.level == 2) | (egea_df.level == 3), 1, 0)\n",
    "egea_df['secondary'] = np.where((egea_df.level == 4) | (egea_df.level == 5), 1, 0)\n",
    "egea_df['tertiary'] = np.where((egea_df.level == 6), 1, 0)\n",
    "egea_df['doctorate'] = np.where((egea_df.level == 7), 1, 0)\n",
    "\n",
    "# Creating female x education dummies\n",
    "egea_df = egea_df.assign(fem_compulsory = lambda x: x.compulsory * (1 - x.female))\n",
    "egea_df = egea_df.assign(fem_secondary = lambda x: x.secondary * (1 - x.female))\n",
    "egea_df = egea_df.assign(fem_tertiary = lambda x: x.tertiary * (1 - x.female))\n",
    "egea_df = egea_df.assign(fem_doctorate = lambda x: x.doctorate * (1 - x.female))\n",
    "\n",
    "# Making county dummies\n",
    "egea_df = pd.concat([egea_df, pd.get_dummies(egea_df.cou.astype(str), prefix = 'cou')], axis = 1)\n",
    "\n",
    "# Extracting our X and y\n",
    "# Dropping dummies 'compulsory', 'fem_compulsory', 'cou_25.0' to avoid perfect collinearity\n",
    "egea_df_X = sm.add_constant(egea_df.drop(['id', 'lnearn', 'year', 'earn', 'compulsory', 'fem_compulsory', 'cou_25.0', 'yearsch', 'cou', 'inf_earn', 'level'], axis = 1))\n",
    "egea_df_y = egea_df[['lnearn']]\n",
    "print('The cleaned data:')\n",
    "display(egea_df_X)\n",
    "display(egea_df_y)\n",
    "\n",
    "print(f'field names are: \\n {[*egea_df_X.columns]}')"
   ]
  },
  {
   "cell_type": "markdown",
   "metadata": {},
   "source": [
    "Here we have our processed data that will be used in our regression analysis. The steps in processing the data were: <br>\n",
    "1. Adjusting for inflation and then recalculating our dependent variable lnearn <br>\n",
    "2. Generating ages for all people in the sample at each data point <br>\n",
    "3. Dropping all NaN values or missing values for schooling. Seeing as there were only a few data-points in this classification, and since they do not fit into our broader categories (compulsory, secondary, tertiary, doctorate), it was decided that they can be omitted from the analysis. <br>\n",
    "4. Dummies where then generated which categorize each person by education level (compulsory, secondary, tertiary, doctorate).\n",
    "5. On top of that a female x education level dummy was generated\n",
    "6. Then irrelevant and highly collinear variables where dropped\n",
    "7. lnearn was chosen to be our dependent due to be the dependent due to skewed nature of earnings data"
   ]
  },
  {
   "cell_type": "code",
   "execution_count": 4,
   "metadata": {},
   "outputs": [
    {
     "name": "stdout",
     "output_type": "stream",
     "text": [
      "Statistically significant collinearity at 1%:\n"
     ]
    },
    {
     "data": {
      "text/html": [
       "<style  type=\"text/css\" >\n",
       "#T_383a5610_210f_11eb_a077_acde48001122row0_col0,#T_383a5610_210f_11eb_a077_acde48001122row0_col2,#T_383a5610_210f_11eb_a077_acde48001122row0_col3,#T_383a5610_210f_11eb_a077_acde48001122row0_col4,#T_383a5610_210f_11eb_a077_acde48001122row0_col5,#T_383a5610_210f_11eb_a077_acde48001122row0_col7,#T_383a5610_210f_11eb_a077_acde48001122row0_col8,#T_383a5610_210f_11eb_a077_acde48001122row0_col9,#T_383a5610_210f_11eb_a077_acde48001122row0_col10,#T_383a5610_210f_11eb_a077_acde48001122row0_col11,#T_383a5610_210f_11eb_a077_acde48001122row1_col1,#T_383a5610_210f_11eb_a077_acde48001122row1_col2,#T_383a5610_210f_11eb_a077_acde48001122row1_col4,#T_383a5610_210f_11eb_a077_acde48001122row1_col5,#T_383a5610_210f_11eb_a077_acde48001122row1_col6,#T_383a5610_210f_11eb_a077_acde48001122row1_col7,#T_383a5610_210f_11eb_a077_acde48001122row1_col8,#T_383a5610_210f_11eb_a077_acde48001122row1_col9,#T_383a5610_210f_11eb_a077_acde48001122row1_col10,#T_383a5610_210f_11eb_a077_acde48001122row1_col11,#T_383a5610_210f_11eb_a077_acde48001122row2_col0,#T_383a5610_210f_11eb_a077_acde48001122row2_col1,#T_383a5610_210f_11eb_a077_acde48001122row2_col2,#T_383a5610_210f_11eb_a077_acde48001122row2_col4,#T_383a5610_210f_11eb_a077_acde48001122row2_col5,#T_383a5610_210f_11eb_a077_acde48001122row2_col6,#T_383a5610_210f_11eb_a077_acde48001122row2_col8,#T_383a5610_210f_11eb_a077_acde48001122row2_col9,#T_383a5610_210f_11eb_a077_acde48001122row3_col0,#T_383a5610_210f_11eb_a077_acde48001122row3_col3,#T_383a5610_210f_11eb_a077_acde48001122row3_col4,#T_383a5610_210f_11eb_a077_acde48001122row3_col5,#T_383a5610_210f_11eb_a077_acde48001122row3_col6,#T_383a5610_210f_11eb_a077_acde48001122row3_col7,#T_383a5610_210f_11eb_a077_acde48001122row3_col8,#T_383a5610_210f_11eb_a077_acde48001122row3_col9,#T_383a5610_210f_11eb_a077_acde48001122row3_col10,#T_383a5610_210f_11eb_a077_acde48001122row3_col11,#T_383a5610_210f_11eb_a077_acde48001122row4_col0,#T_383a5610_210f_11eb_a077_acde48001122row4_col1,#T_383a5610_210f_11eb_a077_acde48001122row4_col2,#T_383a5610_210f_11eb_a077_acde48001122row4_col3,#T_383a5610_210f_11eb_a077_acde48001122row4_col4,#T_383a5610_210f_11eb_a077_acde48001122row4_col5,#T_383a5610_210f_11eb_a077_acde48001122row4_col6,#T_383a5610_210f_11eb_a077_acde48001122row4_col7,#T_383a5610_210f_11eb_a077_acde48001122row4_col8,#T_383a5610_210f_11eb_a077_acde48001122row4_col9,#T_383a5610_210f_11eb_a077_acde48001122row4_col10,#T_383a5610_210f_11eb_a077_acde48001122row4_col11,#T_383a5610_210f_11eb_a077_acde48001122row5_col0,#T_383a5610_210f_11eb_a077_acde48001122row5_col1,#T_383a5610_210f_11eb_a077_acde48001122row5_col2,#T_383a5610_210f_11eb_a077_acde48001122row5_col3,#T_383a5610_210f_11eb_a077_acde48001122row5_col4,#T_383a5610_210f_11eb_a077_acde48001122row5_col5,#T_383a5610_210f_11eb_a077_acde48001122row5_col6,#T_383a5610_210f_11eb_a077_acde48001122row5_col7,#T_383a5610_210f_11eb_a077_acde48001122row5_col8,#T_383a5610_210f_11eb_a077_acde48001122row5_col9,#T_383a5610_210f_11eb_a077_acde48001122row5_col10,#T_383a5610_210f_11eb_a077_acde48001122row5_col11,#T_383a5610_210f_11eb_a077_acde48001122row6_col1,#T_383a5610_210f_11eb_a077_acde48001122row6_col2,#T_383a5610_210f_11eb_a077_acde48001122row6_col3,#T_383a5610_210f_11eb_a077_acde48001122row6_col4,#T_383a5610_210f_11eb_a077_acde48001122row6_col5,#T_383a5610_210f_11eb_a077_acde48001122row6_col6,#T_383a5610_210f_11eb_a077_acde48001122row6_col7,#T_383a5610_210f_11eb_a077_acde48001122row6_col8,#T_383a5610_210f_11eb_a077_acde48001122row6_col9,#T_383a5610_210f_11eb_a077_acde48001122row6_col10,#T_383a5610_210f_11eb_a077_acde48001122row6_col11,#T_383a5610_210f_11eb_a077_acde48001122row7_col0,#T_383a5610_210f_11eb_a077_acde48001122row7_col1,#T_383a5610_210f_11eb_a077_acde48001122row7_col3,#T_383a5610_210f_11eb_a077_acde48001122row7_col4,#T_383a5610_210f_11eb_a077_acde48001122row7_col5,#T_383a5610_210f_11eb_a077_acde48001122row7_col6,#T_383a5610_210f_11eb_a077_acde48001122row7_col7,#T_383a5610_210f_11eb_a077_acde48001122row7_col8,#T_383a5610_210f_11eb_a077_acde48001122row7_col9,#T_383a5610_210f_11eb_a077_acde48001122row7_col10,#T_383a5610_210f_11eb_a077_acde48001122row7_col11,#T_383a5610_210f_11eb_a077_acde48001122row8_col0,#T_383a5610_210f_11eb_a077_acde48001122row8_col1,#T_383a5610_210f_11eb_a077_acde48001122row8_col2,#T_383a5610_210f_11eb_a077_acde48001122row8_col3,#T_383a5610_210f_11eb_a077_acde48001122row8_col4,#T_383a5610_210f_11eb_a077_acde48001122row8_col5,#T_383a5610_210f_11eb_a077_acde48001122row8_col6,#T_383a5610_210f_11eb_a077_acde48001122row8_col7,#T_383a5610_210f_11eb_a077_acde48001122row8_col8,#T_383a5610_210f_11eb_a077_acde48001122row8_col9,#T_383a5610_210f_11eb_a077_acde48001122row8_col10,#T_383a5610_210f_11eb_a077_acde48001122row8_col11,#T_383a5610_210f_11eb_a077_acde48001122row9_col0,#T_383a5610_210f_11eb_a077_acde48001122row9_col1,#T_383a5610_210f_11eb_a077_acde48001122row9_col2,#T_383a5610_210f_11eb_a077_acde48001122row9_col3,#T_383a5610_210f_11eb_a077_acde48001122row9_col4,#T_383a5610_210f_11eb_a077_acde48001122row9_col5,#T_383a5610_210f_11eb_a077_acde48001122row9_col6,#T_383a5610_210f_11eb_a077_acde48001122row9_col7,#T_383a5610_210f_11eb_a077_acde48001122row9_col8,#T_383a5610_210f_11eb_a077_acde48001122row9_col9,#T_383a5610_210f_11eb_a077_acde48001122row9_col10,#T_383a5610_210f_11eb_a077_acde48001122row9_col11,#T_383a5610_210f_11eb_a077_acde48001122row10_col0,#T_383a5610_210f_11eb_a077_acde48001122row10_col1,#T_383a5610_210f_11eb_a077_acde48001122row10_col3,#T_383a5610_210f_11eb_a077_acde48001122row10_col4,#T_383a5610_210f_11eb_a077_acde48001122row10_col5,#T_383a5610_210f_11eb_a077_acde48001122row10_col6,#T_383a5610_210f_11eb_a077_acde48001122row10_col7,#T_383a5610_210f_11eb_a077_acde48001122row10_col8,#T_383a5610_210f_11eb_a077_acde48001122row10_col9,#T_383a5610_210f_11eb_a077_acde48001122row10_col10,#T_383a5610_210f_11eb_a077_acde48001122row10_col11,#T_383a5610_210f_11eb_a077_acde48001122row11_col0,#T_383a5610_210f_11eb_a077_acde48001122row11_col1,#T_383a5610_210f_11eb_a077_acde48001122row11_col3,#T_383a5610_210f_11eb_a077_acde48001122row11_col4,#T_383a5610_210f_11eb_a077_acde48001122row11_col5,#T_383a5610_210f_11eb_a077_acde48001122row11_col6,#T_383a5610_210f_11eb_a077_acde48001122row11_col7,#T_383a5610_210f_11eb_a077_acde48001122row11_col8,#T_383a5610_210f_11eb_a077_acde48001122row11_col9,#T_383a5610_210f_11eb_a077_acde48001122row11_col10,#T_383a5610_210f_11eb_a077_acde48001122row11_col11{\n",
       "            color: red;\n",
       "             font-weight: bold;\n",
       "        }</style><table id=\"T_383a5610_210f_11eb_a077_acde48001122\" ><thead>    <tr>        <th class=\"blank level0\" ></th>        <th class=\"col_heading level0 col0\" >d53</th>        <th class=\"col_heading level0 col1\" >female</th>        <th class=\"col_heading level0 col2\" >reform</th>        <th class=\"col_heading level0 col3\" >fe</th>        <th class=\"col_heading level0 col4\" >abil1</th>        <th class=\"col_heading level0 col5\" >age</th>        <th class=\"col_heading level0 col6\" >secondary</th>        <th class=\"col_heading level0 col7\" >tertiary</th>        <th class=\"col_heading level0 col8\" >doctorate</th>        <th class=\"col_heading level0 col9\" >fem_secondary</th>        <th class=\"col_heading level0 col10\" >fem_tertiary</th>        <th class=\"col_heading level0 col11\" >fem_doctorate</th>    </tr></thead><tbody>\n",
       "                <tr>\n",
       "                        <th id=\"T_383a5610_210f_11eb_a077_acde48001122level0_row0\" class=\"row_heading level0 row0\" >d53</th>\n",
       "                        <td id=\"T_383a5610_210f_11eb_a077_acde48001122row0_col0\" class=\"data row0 col0\" >1.000000</td>\n",
       "                        <td id=\"T_383a5610_210f_11eb_a077_acde48001122row0_col1\" class=\"data row0 col1\" >0.001726</td>\n",
       "                        <td id=\"T_383a5610_210f_11eb_a077_acde48001122row0_col2\" class=\"data row0 col2\" >0.464387</td>\n",
       "                        <td id=\"T_383a5610_210f_11eb_a077_acde48001122row0_col3\" class=\"data row0 col3\" >-0.088828</td>\n",
       "                        <td id=\"T_383a5610_210f_11eb_a077_acde48001122row0_col4\" class=\"data row0 col4\" >0.016941</td>\n",
       "                        <td id=\"T_383a5610_210f_11eb_a077_acde48001122row0_col5\" class=\"data row0 col5\" >0.588854</td>\n",
       "                        <td id=\"T_383a5610_210f_11eb_a077_acde48001122row0_col6\" class=\"data row0 col6\" >0.004086</td>\n",
       "                        <td id=\"T_383a5610_210f_11eb_a077_acde48001122row0_col7\" class=\"data row0 col7\" >-0.056034</td>\n",
       "                        <td id=\"T_383a5610_210f_11eb_a077_acde48001122row0_col8\" class=\"data row0 col8\" >-0.028460</td>\n",
       "                        <td id=\"T_383a5610_210f_11eb_a077_acde48001122row0_col9\" class=\"data row0 col9\" >-0.028444</td>\n",
       "                        <td id=\"T_383a5610_210f_11eb_a077_acde48001122row0_col10\" class=\"data row0 col10\" >-0.037402</td>\n",
       "                        <td id=\"T_383a5610_210f_11eb_a077_acde48001122row0_col11\" class=\"data row0 col11\" >-0.020864</td>\n",
       "            </tr>\n",
       "            <tr>\n",
       "                        <th id=\"T_383a5610_210f_11eb_a077_acde48001122level0_row1\" class=\"row_heading level0 row1\" >female</th>\n",
       "                        <td id=\"T_383a5610_210f_11eb_a077_acde48001122row1_col0\" class=\"data row1 col0\" >0.001726</td>\n",
       "                        <td id=\"T_383a5610_210f_11eb_a077_acde48001122row1_col1\" class=\"data row1 col1\" >1.000000</td>\n",
       "                        <td id=\"T_383a5610_210f_11eb_a077_acde48001122row1_col2\" class=\"data row1 col2\" >0.006977</td>\n",
       "                        <td id=\"T_383a5610_210f_11eb_a077_acde48001122row1_col3\" class=\"data row1 col3\" >-0.005104</td>\n",
       "                        <td id=\"T_383a5610_210f_11eb_a077_acde48001122row1_col4\" class=\"data row1 col4\" >0.072117</td>\n",
       "                        <td id=\"T_383a5610_210f_11eb_a077_acde48001122row1_col5\" class=\"data row1 col5\" >0.010861</td>\n",
       "                        <td id=\"T_383a5610_210f_11eb_a077_acde48001122row1_col6\" class=\"data row1 col6\" >-0.011469</td>\n",
       "                        <td id=\"T_383a5610_210f_11eb_a077_acde48001122row1_col7\" class=\"data row1 col7\" >-0.012549</td>\n",
       "                        <td id=\"T_383a5610_210f_11eb_a077_acde48001122row1_col8\" class=\"data row1 col8\" >-0.035604</td>\n",
       "                        <td id=\"T_383a5610_210f_11eb_a077_acde48001122row1_col9\" class=\"data row1 col9\" >-0.374528</td>\n",
       "                        <td id=\"T_383a5610_210f_11eb_a077_acde48001122row1_col10\" class=\"data row1 col10\" >-0.282684</td>\n",
       "                        <td id=\"T_383a5610_210f_11eb_a077_acde48001122row1_col11\" class=\"data row1 col11\" >-0.066735</td>\n",
       "            </tr>\n",
       "            <tr>\n",
       "                        <th id=\"T_383a5610_210f_11eb_a077_acde48001122level0_row2\" class=\"row_heading level0 row2\" >reform</th>\n",
       "                        <td id=\"T_383a5610_210f_11eb_a077_acde48001122row2_col0\" class=\"data row2 col0\" >0.464387</td>\n",
       "                        <td id=\"T_383a5610_210f_11eb_a077_acde48001122row2_col1\" class=\"data row2 col1\" >0.006977</td>\n",
       "                        <td id=\"T_383a5610_210f_11eb_a077_acde48001122row2_col2\" class=\"data row2 col2\" >1.000000</td>\n",
       "                        <td id=\"T_383a5610_210f_11eb_a077_acde48001122row2_col3\" class=\"data row2 col3\" >0.001181</td>\n",
       "                        <td id=\"T_383a5610_210f_11eb_a077_acde48001122row2_col4\" class=\"data row2 col4\" >0.010208</td>\n",
       "                        <td id=\"T_383a5610_210f_11eb_a077_acde48001122row2_col5\" class=\"data row2 col5\" >0.273053</td>\n",
       "                        <td id=\"T_383a5610_210f_11eb_a077_acde48001122row2_col6\" class=\"data row2 col6\" >0.029139</td>\n",
       "                        <td id=\"T_383a5610_210f_11eb_a077_acde48001122row2_col7\" class=\"data row2 col7\" >0.001810</td>\n",
       "                        <td id=\"T_383a5610_210f_11eb_a077_acde48001122row2_col8\" class=\"data row2 col8\" >-0.009786</td>\n",
       "                        <td id=\"T_383a5610_210f_11eb_a077_acde48001122row2_col9\" class=\"data row2 col9\" >0.005822</td>\n",
       "                        <td id=\"T_383a5610_210f_11eb_a077_acde48001122row2_col10\" class=\"data row2 col10\" >-0.001236</td>\n",
       "                        <td id=\"T_383a5610_210f_11eb_a077_acde48001122row2_col11\" class=\"data row2 col11\" >0.000876</td>\n",
       "            </tr>\n",
       "            <tr>\n",
       "                        <th id=\"T_383a5610_210f_11eb_a077_acde48001122level0_row3\" class=\"row_heading level0 row3\" >fe</th>\n",
       "                        <td id=\"T_383a5610_210f_11eb_a077_acde48001122row3_col0\" class=\"data row3 col0\" >-0.088828</td>\n",
       "                        <td id=\"T_383a5610_210f_11eb_a077_acde48001122row3_col1\" class=\"data row3 col1\" >-0.005104</td>\n",
       "                        <td id=\"T_383a5610_210f_11eb_a077_acde48001122row3_col2\" class=\"data row3 col2\" >0.001181</td>\n",
       "                        <td id=\"T_383a5610_210f_11eb_a077_acde48001122row3_col3\" class=\"data row3 col3\" >1.000000</td>\n",
       "                        <td id=\"T_383a5610_210f_11eb_a077_acde48001122row3_col4\" class=\"data row3 col4\" >0.128586</td>\n",
       "                        <td id=\"T_383a5610_210f_11eb_a077_acde48001122row3_col5\" class=\"data row3 col5\" >-0.052146</td>\n",
       "                        <td id=\"T_383a5610_210f_11eb_a077_acde48001122row3_col6\" class=\"data row3 col6\" >0.053208</td>\n",
       "                        <td id=\"T_383a5610_210f_11eb_a077_acde48001122row3_col7\" class=\"data row3 col7\" >0.162271</td>\n",
       "                        <td id=\"T_383a5610_210f_11eb_a077_acde48001122row3_col8\" class=\"data row3 col8\" >0.050092</td>\n",
       "                        <td id=\"T_383a5610_210f_11eb_a077_acde48001122row3_col9\" class=\"data row3 col9\" >0.033243</td>\n",
       "                        <td id=\"T_383a5610_210f_11eb_a077_acde48001122row3_col10\" class=\"data row3 col10\" >0.117375</td>\n",
       "                        <td id=\"T_383a5610_210f_11eb_a077_acde48001122row3_col11\" class=\"data row3 col11\" >0.047142</td>\n",
       "            </tr>\n",
       "            <tr>\n",
       "                        <th id=\"T_383a5610_210f_11eb_a077_acde48001122level0_row4\" class=\"row_heading level0 row4\" >abil1</th>\n",
       "                        <td id=\"T_383a5610_210f_11eb_a077_acde48001122row4_col0\" class=\"data row4 col0\" >0.016941</td>\n",
       "                        <td id=\"T_383a5610_210f_11eb_a077_acde48001122row4_col1\" class=\"data row4 col1\" >0.072117</td>\n",
       "                        <td id=\"T_383a5610_210f_11eb_a077_acde48001122row4_col2\" class=\"data row4 col2\" >0.010208</td>\n",
       "                        <td id=\"T_383a5610_210f_11eb_a077_acde48001122row4_col3\" class=\"data row4 col3\" >0.128586</td>\n",
       "                        <td id=\"T_383a5610_210f_11eb_a077_acde48001122row4_col4\" class=\"data row4 col4\" >1.000000</td>\n",
       "                        <td id=\"T_383a5610_210f_11eb_a077_acde48001122row4_col5\" class=\"data row4 col5\" >0.017174</td>\n",
       "                        <td id=\"T_383a5610_210f_11eb_a077_acde48001122row4_col6\" class=\"data row4 col6\" >0.218227</td>\n",
       "                        <td id=\"T_383a5610_210f_11eb_a077_acde48001122row4_col7\" class=\"data row4 col7\" >0.391422</td>\n",
       "                        <td id=\"T_383a5610_210f_11eb_a077_acde48001122row4_col8\" class=\"data row4 col8\" >0.100699</td>\n",
       "                        <td id=\"T_383a5610_210f_11eb_a077_acde48001122row4_col9\" class=\"data row4 col9\" >0.102544</td>\n",
       "                        <td id=\"T_383a5610_210f_11eb_a077_acde48001122row4_col10\" class=\"data row4 col10\" >0.257980</td>\n",
       "                        <td id=\"T_383a5610_210f_11eb_a077_acde48001122row4_col11\" class=\"data row4 col11\" >0.079241</td>\n",
       "            </tr>\n",
       "            <tr>\n",
       "                        <th id=\"T_383a5610_210f_11eb_a077_acde48001122level0_row5\" class=\"row_heading level0 row5\" >age</th>\n",
       "                        <td id=\"T_383a5610_210f_11eb_a077_acde48001122row5_col0\" class=\"data row5 col0\" >0.588854</td>\n",
       "                        <td id=\"T_383a5610_210f_11eb_a077_acde48001122row5_col1\" class=\"data row5 col1\" >0.010861</td>\n",
       "                        <td id=\"T_383a5610_210f_11eb_a077_acde48001122row5_col2\" class=\"data row5 col2\" >0.273053</td>\n",
       "                        <td id=\"T_383a5610_210f_11eb_a077_acde48001122row5_col3\" class=\"data row5 col3\" >-0.052146</td>\n",
       "                        <td id=\"T_383a5610_210f_11eb_a077_acde48001122row5_col4\" class=\"data row5 col4\" >0.017174</td>\n",
       "                        <td id=\"T_383a5610_210f_11eb_a077_acde48001122row5_col5\" class=\"data row5 col5\" >1.000000</td>\n",
       "                        <td id=\"T_383a5610_210f_11eb_a077_acde48001122row5_col6\" class=\"data row5 col6\" >0.006283</td>\n",
       "                        <td id=\"T_383a5610_210f_11eb_a077_acde48001122row5_col7\" class=\"data row5 col7\" >-0.027316</td>\n",
       "                        <td id=\"T_383a5610_210f_11eb_a077_acde48001122row5_col8\" class=\"data row5 col8\" >-0.015643</td>\n",
       "                        <td id=\"T_383a5610_210f_11eb_a077_acde48001122row5_col9\" class=\"data row5 col9\" >-0.016311</td>\n",
       "                        <td id=\"T_383a5610_210f_11eb_a077_acde48001122row5_col10\" class=\"data row5 col10\" >-0.019105</td>\n",
       "                        <td id=\"T_383a5610_210f_11eb_a077_acde48001122row5_col11\" class=\"data row5 col11\" >-0.011526</td>\n",
       "            </tr>\n",
       "            <tr>\n",
       "                        <th id=\"T_383a5610_210f_11eb_a077_acde48001122level0_row6\" class=\"row_heading level0 row6\" >secondary</th>\n",
       "                        <td id=\"T_383a5610_210f_11eb_a077_acde48001122row6_col0\" class=\"data row6 col0\" >0.004086</td>\n",
       "                        <td id=\"T_383a5610_210f_11eb_a077_acde48001122row6_col1\" class=\"data row6 col1\" >-0.011469</td>\n",
       "                        <td id=\"T_383a5610_210f_11eb_a077_acde48001122row6_col2\" class=\"data row6 col2\" >0.029139</td>\n",
       "                        <td id=\"T_383a5610_210f_11eb_a077_acde48001122row6_col3\" class=\"data row6 col3\" >0.053208</td>\n",
       "                        <td id=\"T_383a5610_210f_11eb_a077_acde48001122row6_col4\" class=\"data row6 col4\" >0.218227</td>\n",
       "                        <td id=\"T_383a5610_210f_11eb_a077_acde48001122row6_col5\" class=\"data row6 col5\" >0.006283</td>\n",
       "                        <td id=\"T_383a5610_210f_11eb_a077_acde48001122row6_col6\" class=\"data row6 col6\" >1.000000</td>\n",
       "                        <td id=\"T_383a5610_210f_11eb_a077_acde48001122row6_col7\" class=\"data row6 col7\" >-0.236276</td>\n",
       "                        <td id=\"T_383a5610_210f_11eb_a077_acde48001122row6_col8\" class=\"data row6 col8\" >-0.045444</td>\n",
       "                        <td id=\"T_383a5610_210f_11eb_a077_acde48001122row6_col9\" class=\"data row6 col9\" >0.671531</td>\n",
       "                        <td id=\"T_383a5610_210f_11eb_a077_acde48001122row6_col10\" class=\"data row6 col10\" >-0.164832</td>\n",
       "                        <td id=\"T_383a5610_210f_11eb_a077_acde48001122row6_col11\" class=\"data row6 col11\" >-0.038913</td>\n",
       "            </tr>\n",
       "            <tr>\n",
       "                        <th id=\"T_383a5610_210f_11eb_a077_acde48001122level0_row7\" class=\"row_heading level0 row7\" >tertiary</th>\n",
       "                        <td id=\"T_383a5610_210f_11eb_a077_acde48001122row7_col0\" class=\"data row7 col0\" >-0.056034</td>\n",
       "                        <td id=\"T_383a5610_210f_11eb_a077_acde48001122row7_col1\" class=\"data row7 col1\" >-0.012549</td>\n",
       "                        <td id=\"T_383a5610_210f_11eb_a077_acde48001122row7_col2\" class=\"data row7 col2\" >0.001810</td>\n",
       "                        <td id=\"T_383a5610_210f_11eb_a077_acde48001122row7_col3\" class=\"data row7 col3\" >0.162271</td>\n",
       "                        <td id=\"T_383a5610_210f_11eb_a077_acde48001122row7_col4\" class=\"data row7 col4\" >0.391422</td>\n",
       "                        <td id=\"T_383a5610_210f_11eb_a077_acde48001122row7_col5\" class=\"data row7 col5\" >-0.027316</td>\n",
       "                        <td id=\"T_383a5610_210f_11eb_a077_acde48001122row7_col6\" class=\"data row7 col6\" >-0.236276</td>\n",
       "                        <td id=\"T_383a5610_210f_11eb_a077_acde48001122row7_col7\" class=\"data row7 col7\" >1.000000</td>\n",
       "                        <td id=\"T_383a5610_210f_11eb_a077_acde48001122row7_col8\" class=\"data row7 col8\" >-0.033017</td>\n",
       "                        <td id=\"T_383a5610_210f_11eb_a077_acde48001122row7_col9\" class=\"data row7 col9\" >-0.158666</td>\n",
       "                        <td id=\"T_383a5610_210f_11eb_a077_acde48001122row7_col10\" class=\"data row7 col10\" >0.697627</td>\n",
       "                        <td id=\"T_383a5610_210f_11eb_a077_acde48001122row7_col11\" class=\"data row7 col11\" >-0.028272</td>\n",
       "            </tr>\n",
       "            <tr>\n",
       "                        <th id=\"T_383a5610_210f_11eb_a077_acde48001122level0_row8\" class=\"row_heading level0 row8\" >doctorate</th>\n",
       "                        <td id=\"T_383a5610_210f_11eb_a077_acde48001122row8_col0\" class=\"data row8 col0\" >-0.028460</td>\n",
       "                        <td id=\"T_383a5610_210f_11eb_a077_acde48001122row8_col1\" class=\"data row8 col1\" >-0.035604</td>\n",
       "                        <td id=\"T_383a5610_210f_11eb_a077_acde48001122row8_col2\" class=\"data row8 col2\" >-0.009786</td>\n",
       "                        <td id=\"T_383a5610_210f_11eb_a077_acde48001122row8_col3\" class=\"data row8 col3\" >0.050092</td>\n",
       "                        <td id=\"T_383a5610_210f_11eb_a077_acde48001122row8_col4\" class=\"data row8 col4\" >0.100699</td>\n",
       "                        <td id=\"T_383a5610_210f_11eb_a077_acde48001122row8_col5\" class=\"data row8 col5\" >-0.015643</td>\n",
       "                        <td id=\"T_383a5610_210f_11eb_a077_acde48001122row8_col6\" class=\"data row8 col6\" >-0.045444</td>\n",
       "                        <td id=\"T_383a5610_210f_11eb_a077_acde48001122row8_col7\" class=\"data row8 col7\" >-0.033017</td>\n",
       "                        <td id=\"T_383a5610_210f_11eb_a077_acde48001122row8_col8\" class=\"data row8 col8\" >1.000000</td>\n",
       "                        <td id=\"T_383a5610_210f_11eb_a077_acde48001122row8_col9\" class=\"data row8 col9\" >-0.030517</td>\n",
       "                        <td id=\"T_383a5610_210f_11eb_a077_acde48001122row8_col10\" class=\"data row8 col10\" >-0.023034</td>\n",
       "                        <td id=\"T_383a5610_210f_11eb_a077_acde48001122row8_col11\" class=\"data row8 col11\" >0.856284</td>\n",
       "            </tr>\n",
       "            <tr>\n",
       "                        <th id=\"T_383a5610_210f_11eb_a077_acde48001122level0_row9\" class=\"row_heading level0 row9\" >fem_secondary</th>\n",
       "                        <td id=\"T_383a5610_210f_11eb_a077_acde48001122row9_col0\" class=\"data row9 col0\" >-0.028444</td>\n",
       "                        <td id=\"T_383a5610_210f_11eb_a077_acde48001122row9_col1\" class=\"data row9 col1\" >-0.374528</td>\n",
       "                        <td id=\"T_383a5610_210f_11eb_a077_acde48001122row9_col2\" class=\"data row9 col2\" >0.005822</td>\n",
       "                        <td id=\"T_383a5610_210f_11eb_a077_acde48001122row9_col3\" class=\"data row9 col3\" >0.033243</td>\n",
       "                        <td id=\"T_383a5610_210f_11eb_a077_acde48001122row9_col4\" class=\"data row9 col4\" >0.102544</td>\n",
       "                        <td id=\"T_383a5610_210f_11eb_a077_acde48001122row9_col5\" class=\"data row9 col5\" >-0.016311</td>\n",
       "                        <td id=\"T_383a5610_210f_11eb_a077_acde48001122row9_col6\" class=\"data row9 col6\" >0.671531</td>\n",
       "                        <td id=\"T_383a5610_210f_11eb_a077_acde48001122row9_col7\" class=\"data row9 col7\" >-0.158666</td>\n",
       "                        <td id=\"T_383a5610_210f_11eb_a077_acde48001122row9_col8\" class=\"data row9 col8\" >-0.030517</td>\n",
       "                        <td id=\"T_383a5610_210f_11eb_a077_acde48001122row9_col9\" class=\"data row9 col9\" >1.000000</td>\n",
       "                        <td id=\"T_383a5610_210f_11eb_a077_acde48001122row9_col10\" class=\"data row9 col10\" >-0.110690</td>\n",
       "                        <td id=\"T_383a5610_210f_11eb_a077_acde48001122row9_col11\" class=\"data row9 col11\" >-0.026131</td>\n",
       "            </tr>\n",
       "            <tr>\n",
       "                        <th id=\"T_383a5610_210f_11eb_a077_acde48001122level0_row10\" class=\"row_heading level0 row10\" >fem_tertiary</th>\n",
       "                        <td id=\"T_383a5610_210f_11eb_a077_acde48001122row10_col0\" class=\"data row10 col0\" >-0.037402</td>\n",
       "                        <td id=\"T_383a5610_210f_11eb_a077_acde48001122row10_col1\" class=\"data row10 col1\" >-0.282684</td>\n",
       "                        <td id=\"T_383a5610_210f_11eb_a077_acde48001122row10_col2\" class=\"data row10 col2\" >-0.001236</td>\n",
       "                        <td id=\"T_383a5610_210f_11eb_a077_acde48001122row10_col3\" class=\"data row10 col3\" >0.117375</td>\n",
       "                        <td id=\"T_383a5610_210f_11eb_a077_acde48001122row10_col4\" class=\"data row10 col4\" >0.257980</td>\n",
       "                        <td id=\"T_383a5610_210f_11eb_a077_acde48001122row10_col5\" class=\"data row10 col5\" >-0.019105</td>\n",
       "                        <td id=\"T_383a5610_210f_11eb_a077_acde48001122row10_col6\" class=\"data row10 col6\" >-0.164832</td>\n",
       "                        <td id=\"T_383a5610_210f_11eb_a077_acde48001122row10_col7\" class=\"data row10 col7\" >0.697627</td>\n",
       "                        <td id=\"T_383a5610_210f_11eb_a077_acde48001122row10_col8\" class=\"data row10 col8\" >-0.023034</td>\n",
       "                        <td id=\"T_383a5610_210f_11eb_a077_acde48001122row10_col9\" class=\"data row10 col9\" >-0.110690</td>\n",
       "                        <td id=\"T_383a5610_210f_11eb_a077_acde48001122row10_col10\" class=\"data row10 col10\" >1.000000</td>\n",
       "                        <td id=\"T_383a5610_210f_11eb_a077_acde48001122row10_col11\" class=\"data row10 col11\" >-0.019723</td>\n",
       "            </tr>\n",
       "            <tr>\n",
       "                        <th id=\"T_383a5610_210f_11eb_a077_acde48001122level0_row11\" class=\"row_heading level0 row11\" >fem_doctorate</th>\n",
       "                        <td id=\"T_383a5610_210f_11eb_a077_acde48001122row11_col0\" class=\"data row11 col0\" >-0.020864</td>\n",
       "                        <td id=\"T_383a5610_210f_11eb_a077_acde48001122row11_col1\" class=\"data row11 col1\" >-0.066735</td>\n",
       "                        <td id=\"T_383a5610_210f_11eb_a077_acde48001122row11_col2\" class=\"data row11 col2\" >0.000876</td>\n",
       "                        <td id=\"T_383a5610_210f_11eb_a077_acde48001122row11_col3\" class=\"data row11 col3\" >0.047142</td>\n",
       "                        <td id=\"T_383a5610_210f_11eb_a077_acde48001122row11_col4\" class=\"data row11 col4\" >0.079241</td>\n",
       "                        <td id=\"T_383a5610_210f_11eb_a077_acde48001122row11_col5\" class=\"data row11 col5\" >-0.011526</td>\n",
       "                        <td id=\"T_383a5610_210f_11eb_a077_acde48001122row11_col6\" class=\"data row11 col6\" >-0.038913</td>\n",
       "                        <td id=\"T_383a5610_210f_11eb_a077_acde48001122row11_col7\" class=\"data row11 col7\" >-0.028272</td>\n",
       "                        <td id=\"T_383a5610_210f_11eb_a077_acde48001122row11_col8\" class=\"data row11 col8\" >0.856284</td>\n",
       "                        <td id=\"T_383a5610_210f_11eb_a077_acde48001122row11_col9\" class=\"data row11 col9\" >-0.026131</td>\n",
       "                        <td id=\"T_383a5610_210f_11eb_a077_acde48001122row11_col10\" class=\"data row11 col10\" >-0.019723</td>\n",
       "                        <td id=\"T_383a5610_210f_11eb_a077_acde48001122row11_col11\" class=\"data row11 col11\" >1.000000</td>\n",
       "            </tr>\n",
       "    </tbody></table>"
      ],
      "text/plain": [
       "<pandas.io.formats.style.Styler at 0x7f9895e9ee50>"
      ]
     },
     "metadata": {},
     "output_type": "display_data"
    }
   ],
   "source": [
    "def calculate_pvalues(df):\n",
    "    df = df.dropna()._get_numeric_data()\n",
    "    dfcols = pd.DataFrame(columns=df.columns)\n",
    "    pvalues = dfcols.transpose().join(dfcols, how=\"outer\")\n",
    "    for r in df.columns:\n",
    "        for c in df.columns:\n",
    "            pvalues[r][c] = round(pearsonr(df[r], df[c])[1], 10)\n",
    "    return pvalues\n",
    "\n",
    "\n",
    "def color_cells(s, threshold=0.01):\n",
    "    if s < threshold:\n",
    "        return \"color:{0}; font-weight:bold\".format(\"red\")\n",
    "    else:\n",
    "        return \"\"\n",
    "    \n",
    "pvalue_df = egea_df_X.drop('const', axis = 1).loc[:, 'd53':'fem_doctorate']\n",
    "pvalue_mat = calculate_pvalues(pvalue_df)\n",
    "correlation_mat = pvalue_df.corr()\n",
    "correlation_mat = correlation_mat.style.apply(lambda x: pvalue_mat.applymap(color_cells), axis=None)\n",
    "print(\"Statistically significant collinearity at 1%:\")\n",
    "display(correlation_mat)"
   ]
  },
  {
   "cell_type": "markdown",
   "metadata": {},
   "source": [
    "In this dataset, we have a high amount of statistically significant multicollinearity. However, due to the quantity of data being very high, this will hopefully not result in imprecise estimates. "
   ]
  },
  {
   "cell_type": "code",
   "execution_count": 5,
   "metadata": {},
   "outputs": [
    {
     "data": {
      "image/png": "[encoded data removed]",
      "text/plain": [
       "<Figure size 432x288 with 1 Axes>"
      ]
     },
     "metadata": {
      "needs_background": "light"
     },
     "output_type": "display_data"
    }
   ],
   "source": [
    "# Plotting the counties ranked by average income against the normalized lnearn\n",
    "income_means = egea_df[['compulsory', 'secondary', 'tertiary', 'doctorate', 'd53', 'inf_earn']].groupby(\n",
    "                       ['compulsory', 'secondary', 'd53', 'tertiary', 'doctorate'], as_index = False).mean()\n",
    "cohort_48 = income_means[income_means.d53 == 0].inf_earn.iloc[::-1]\n",
    "cohort_53 = income_means[income_means.d53 == 1].inf_earn.iloc[::-1]\n",
    "labels = ['compulsory', 'secondary', 'tertiary', 'doctorate']\n",
    "x = np.arange(len(labels))\n",
    "width = 0.3\n",
    "\n",
    "fig, ax = plt.subplots()\n",
    "rects1 = ax.bar(x - width/2, cohort_48, width, label='cohort_48')\n",
    "rects2 = ax.bar(x + width/2, cohort_53, width, label='cohort_53')\n",
    "\n",
    "ax.set_ylabel('Earnings')\n",
    "ax.set_title('average earnings by education level and cohort')\n",
    "ax.set_xticks(x)\n",
    "ax.set_xticklabels(labels)\n",
    "ax.legend()\n",
    "plt.show()"
   ]
  },
  {
   "cell_type": "markdown",
   "metadata": {},
   "source": [
    "In this first figure, we see the foreseeable outcome that earnings is positively correlated with education, what is left to be analyzed, is whether this relationship is causal and how it differs between men and women. <br>\n",
    "Here, we can also see here a discrepancy in the earnings between the two cohorts. This would be due to a difference in age, with the '48 cohort being older and therefore having higher wages on average."
   ]
  },
  {
   "cell_type": "code",
   "execution_count": 17,
   "metadata": {},
   "outputs": [
    {
     "data": {
      "image/png": "[encoded data removed]",
      "text/plain": [
       "<Figure size 432x288 with 1 Axes>"
      ]
     },
     "metadata": {
      "needs_background": "light"
     },
     "output_type": "display_data"
    }
   ],
   "source": [
    "# Plotting the average earnings of men and women at each educational level\n",
    "income_means = egea_df[['compulsory', 'secondary', 'tertiary', 'doctorate', 'female', 'inf_earn']].groupby(\n",
    "                       ['compulsory', 'secondary', 'tertiary', 'doctorate', 'female',], as_index = False).mean()\n",
    "income_means\n",
    "\n",
    "cohort_48 = income_means[income_means.female == 0].inf_earn.iloc[::-1]\n",
    "cohort_53 = income_means[income_means.female == 1].inf_earn.iloc[::-1]\n",
    "labels = ['compulsory', 'secondary', 'tertiary', 'doctorate']\n",
    "x = np.arange(len(labels))\n",
    "width = 0.3\n",
    "\n",
    "fig, ax = plt.subplots()\n",
    "rects1 = ax.bar(x - width/2, cohort_48, width, label='Male earnings')\n",
    "rects2 = ax.bar(x + width/2, cohort_53, width, label='Female earnings')\n",
    "\n",
    "ax.set_ylabel('Earnings')\n",
    "ax.set_title('Average earnings by education level and gender')\n",
    "ax.set_xticks(x)\n",
    "ax.set_xticklabels(labels)\n",
    "ax.legend()\n",
    "plt.show()"
   ]
  },
  {
   "cell_type": "markdown",
   "metadata": {},
   "source": [
    "This plot shows the infamous gender gap. At all levels of education, women earn much less than men. In this report, we will be looking at what part education and ability has in shaping this gap. "
   ]
  },
  {
   "cell_type": "code",
   "execution_count": 7,
   "metadata": {},
   "outputs": [
    {
     "data": {
      "image/png": "[encoded data removed]",
      "text/plain": [
       "<Figure size 432x288 with 1 Axes>"
      ]
     },
     "metadata": {
      "needs_background": "light"
     },
     "output_type": "display_data"
    }
   ],
   "source": [
    "Xy = egea_df[['age', 'd53', 'lnearn']].groupby(['age', 'd53'], as_index = False).mean()\n",
    "cohort_48 = Xy[Xy.d53 == 0]\n",
    "cohort_53 = Xy[Xy.d53 == 1]\n",
    "plt.plot(cohort_48['age'], cohort_48['lnearn'], label = 'cohort 48')\n",
    "plt.plot(cohort_53['age'], cohort_53['lnearn'], label = 'cohort 53')\n",
    "plt.xlabel('Age')\n",
    "plt.ylabel('Log Earnings')\n",
    "plt.title('age against log earnings for the 48 and 53 cohort')\n",
    "plt.legend(loc = 'upper left')\n",
    "plt.show()"
   ]
  },
  {
   "cell_type": "markdown",
   "metadata": {},
   "source": [
    "In this figure, the general profile of earnings against age in the 40s - 50s age group is made apparent. The shape of this profile is remarkably similar across cohorts, most likely reflecting how the broader economic trends of the time were impacting wages. <br>\n",
    "The vertical separation of the lines is a reflection of the economic growth of Sweden. At the same age, the younger cohort would be expected to earn more, since the economy would have grown since the time the former cohort was sampled at that age, and this is what we are seeing here. "
   ]
  },
  {
   "cell_type": "markdown",
   "metadata": {},
   "source": [
    "Now, before we begin the regression analysis, a check for heteroskedasticity. The check will be made by seeing if there is statistically significant covariance between the residuals of the OLS regression and the X independents. "
   ]
  },
  {
   "cell_type": "code",
   "execution_count": 1,
   "metadata": {},
   "outputs": [
    {
     "ename": "NameError",
     "evalue": "name 'sm' is not defined",
     "output_type": "error",
     "traceback": [
      "\u001b[0;31m---------------------------------------------------------------------------\u001b[0m",
      "\u001b[0;31mNameError\u001b[0m                                 Traceback (most recent call last)",
      "\u001b[0;32m<ipython-input-1-4249f25aa3ae>\u001b[0m in \u001b[0;36m<module>\u001b[0;34m\u001b[0m\n\u001b[1;32m      1\u001b[0m \u001b[0;31m# First make predictions for y\u001b[0m\u001b[0;34m\u001b[0m\u001b[0;34m\u001b[0m\u001b[0;34m\u001b[0m\u001b[0m\n\u001b[0;32m----> 2\u001b[0;31m \u001b[0mmodel_1\u001b[0m \u001b[0;34m=\u001b[0m \u001b[0msm\u001b[0m\u001b[0;34m.\u001b[0m\u001b[0mOLS\u001b[0m\u001b[0;34m(\u001b[0m\u001b[0megea_df_y\u001b[0m\u001b[0;34m,\u001b[0m \u001b[0megea_df_X\u001b[0m\u001b[0;34m)\u001b[0m\u001b[0;34m.\u001b[0m\u001b[0mfit\u001b[0m\u001b[0;34m(\u001b[0m\u001b[0;34m)\u001b[0m\u001b[0;34m\u001b[0m\u001b[0;34m\u001b[0m\u001b[0m\n\u001b[0m\u001b[1;32m      3\u001b[0m \u001b[0mpredict\u001b[0m \u001b[0;34m=\u001b[0m \u001b[0mmodel_1\u001b[0m\u001b[0;34m.\u001b[0m\u001b[0mpredict\u001b[0m\u001b[0;34m(\u001b[0m\u001b[0megea_df_X\u001b[0m\u001b[0;34m)\u001b[0m\u001b[0;34m\u001b[0m\u001b[0;34m\u001b[0m\u001b[0m\n\u001b[1;32m      4\u001b[0m \u001b[0;31m# Generate the residuals\u001b[0m\u001b[0;34m\u001b[0m\u001b[0;34m\u001b[0m\u001b[0;34m\u001b[0m\u001b[0m\n\u001b[1;32m      5\u001b[0m \u001b[0mresiduals_sq\u001b[0m \u001b[0;34m=\u001b[0m \u001b[0mnp\u001b[0m\u001b[0;34m.\u001b[0m\u001b[0msquare\u001b[0m\u001b[0;34m(\u001b[0m\u001b[0;34m(\u001b[0m\u001b[0mpredict\u001b[0m \u001b[0;34m-\u001b[0m \u001b[0megea_df_y\u001b[0m\u001b[0;34m.\u001b[0m\u001b[0miloc\u001b[0m\u001b[0;34m[\u001b[0m\u001b[0;34m:\u001b[0m\u001b[0;34m,\u001b[0m \u001b[0;36m0\u001b[0m\u001b[0;34m]\u001b[0m\u001b[0;34m)\u001b[0m\u001b[0;34m.\u001b[0m\u001b[0mvalues\u001b[0m\u001b[0;34m)\u001b[0m\u001b[0;34m\u001b[0m\u001b[0;34m\u001b[0m\u001b[0m\n",
      "\u001b[0;31mNameError\u001b[0m: name 'sm' is not defined"
     ]
    }
   ],
   "source": [
    "# First make predictions for y\n",
    "model_1 = sm.OLS(egea_df_y, egea_df_X).fit()\n",
    "predict = model_1.predict(egea_df_X)\n",
    "# Generate the residuals\n",
    "residuals_sq = np.square((predict - egea_df_y.iloc[:, 0]).values)\n",
    "# Regress X and e\n",
    "model_2 = sm.OLS(residuals_sq, egea_df_X).fit()\n",
    "model_summary = model_2.summary().as_text().split('\\n')\n",
    "for li in model_summary:\n",
    "    if li.startswith('Notes'):\n",
    "        break\n",
    "    if not li.startswith('cou'):\n",
    "        print(li)"
   ]
  },
  {
   "cell_type": "markdown",
   "metadata": {},
   "source": [
    "We have statistically significant heteroskedasticty on the majority of variables. Therefore, we will be using White robust standard errors. "
   ]
  },
  {
   "cell_type": "markdown",
   "metadata": {},
   "source": [
    "## Q1: The returns to education and how this differs by gender"
   ]
  },
  {
   "cell_type": "markdown",
   "metadata": {},
   "source": [
    "Now that we have transformed and cleaned the data, made some basic visualizations of what it looks like, and identified heteroskedasticity. We can tackle the first question of this report: What are the returns to education and how do they differ by gender? "
   ]
  },
  {
   "cell_type": "code",
   "execution_count": 9,
   "metadata": {},
   "outputs": [
    {
     "name": "stdout",
     "output_type": "stream",
     "text": [
      "                            OLS Regression Results                            \n",
      "==============================================================================\n",
      "Dep. Variable:                 lnearn   R-squared:                       0.250\n",
      "Model:                            OLS   Adj. R-squared:                  0.249\n",
      "Method:                 Least Squares   F-statistic:                     1912.\n",
      "Date:                Sat, 07 Nov 2020   Prob (F-statistic):               0.00\n",
      "Time:                        10:38:03   Log-Likelihood:            -1.3829e+05\n",
      "No. Observations:              206487   AIC:                         2.766e+05\n",
      "Df Residuals:                  206451   BIC:                         2.770e+05\n",
      "Df Model:                          35                                         \n",
      "Covariance Type:                  HC3                                         \n",
      "=================================================================================\n",
      "                    coef    std err          z      P>|z|      [0.025      0.975]\n",
      "---------------------------------------------------------------------------------\n",
      "const             6.1067      0.014    428.841      0.000       6.079       6.135\n",
      "d53              -0.1836      0.003    -63.911      0.000      -0.189      -0.178\n",
      "female           -0.3735      0.003   -135.070      0.000      -0.379      -0.368\n",
      "reform            0.0221      0.002      8.890      0.000       0.017       0.027\n",
      "fe               -0.0007      0.001     -0.767      0.443      -0.002       0.001\n",
      "abil1             0.0180      0.001     28.159      0.000       0.017       0.019\n",
      "age               0.0218      0.000     70.350      0.000       0.021       0.022\n",
      "secondary         0.1345      0.004     37.322      0.000       0.127       0.142\n",
      "tertiary          0.3322      0.005     73.134      0.000       0.323       0.341\n",
      "doctorate         0.3676      0.035     10.597      0.000       0.300       0.436\n",
      "fem_secondary     0.0387      0.005      7.945      0.000       0.029       0.048\n",
      "fem_tertiary      0.0392      0.006      6.583      0.000       0.028       0.051\n",
      "fem_doctorate     0.0940      0.037      2.546      0.011       0.022       0.166\n",
      "==============================================================================\n",
      "Omnibus:                   127685.851   Durbin-Watson:                   1.964\n",
      "Prob(Omnibus):                  0.000   Jarque-Bera (JB):          2638902.782\n",
      "Skew:                          -2.620   Prob(JB):                         0.00\n",
      "Kurtosis:                      19.711   Cond. No.                     1.64e+03\n",
      "==============================================================================\n",
      "\n"
     ]
    }
   ],
   "source": [
    "# Overall heteroskedastic robust results including all X\n",
    "model = sm.OLS(egea_df_y, egea_df_X).fit(cov_type = 'HC3')\n",
    "model_summary = model.summary().as_text().split('\\n')\n",
    "# removing dummies\n",
    "for li in model_summary:\n",
    "    if li.startswith('Notes'):\n",
    "        break  \n",
    "    if not li.startswith('cou'):\n",
    "        print(li) "
   ]
  },
  {
   "cell_type": "markdown",
   "metadata": {},
   "source": [
    "This is our first regression of X on earnings and a general summary of the data we are working with. All coefficients displayed here are significant at the 5% level except for the one on the father's education variable. Some significant results are the positively increasing returns to education, and the positive coefficients on the female education dummies (fem_secondary, fem_tertiary, fem_doctorate). What this is suggesting is that females have a higher return to education at all levels than males in this sample.  <br> \n",
    "\n",
    "Other intuitive results are that ability and age are positively correlated with earnings, and that those born in the younger cohort are making less. <br>\n",
    "\n",
    "Now a visualization of what these results look like. "
   ]
  },
  {
   "cell_type": "code",
   "execution_count": 18,
   "metadata": {},
   "outputs": [
    {
     "data": {
      "image/png": "[encoded data removed]",
      "text/plain": [
       "<Figure size 432x288 with 1 Axes>"
      ]
     },
     "metadata": {
      "needs_background": "light"
     },
     "output_type": "display_data"
    }
   ],
   "source": [
    "# Turning results table into operable dataframe\n",
    "results_as_html = model.summary().tables[1].as_html()\n",
    "results_df = pd.read_html(results_as_html, header=0, index_col=0)[0]\n",
    "\n",
    "# extracting education coeffeicients\n",
    "ed_coefs = results_df.loc[['secondary', 'tertiary', 'doctorate'], 'coef'].values\n",
    "# Adding female educ dummy to educ coefficient\n",
    "femed_increment = results_df.loc[['fem_secondary', 'fem_tertiary', 'fem_doctorate'], 'coef'].values\n",
    "femed_coefs = femed_increment + ed_coefs\n",
    "\n",
    "# making bar graph\n",
    "labels = ['secondary', 'tertiary', 'doctorate']\n",
    "x = np.arange(len(labels))\n",
    "width = 0.3\n",
    "\n",
    "fig, ax = plt.subplots()\n",
    "rects1 = ax.bar(x - width/2, ed_coefs, width, label='male returns to education')\n",
    "rects2 = ax.bar(x + width/2, femed_coefs, width, label='Female returns to education')\n",
    "\n",
    "ax.set_ylabel('Coefficient')\n",
    "ax.set_title('Effect of education on earnings by gender')\n",
    "ax.set_xticks(x)\n",
    "ax.set_xticklabels(labels)\n",
    "ax.set_ylim(0, 0.6)\n",
    "ax.legend(loc = 'upper left')\n",
    "\n",
    "def autolabel(rects):\n",
    "    \"\"\"Attach a text label above each bar in *rects*, displaying its height.\"\"\"\n",
    "    for rect in rects:\n",
    "        height = round(rect.get_height(), 3)\n",
    "        ax.annotate('{}'.format(height),\n",
    "                    xy=(rect.get_x() + rect.get_width() / 2, height),\n",
    "                    xytext=(0, 3),  # 3 points vertical offset\n",
    "                    textcoords=\"offset points\",\n",
    "                    ha='center', va='bottom')\n",
    "\n",
    "autolabel(rects1)\n",
    "autolabel(rects2)\n",
    "\n",
    "fig.tight_layout()\n",
    "plt.show()"
   ]
  },
  {
   "cell_type": "markdown",
   "metadata": {},
   "source": [
    "What we see here visually is that education is increasing log earnings for females more than it is for males. Since we are working with log earnings here, this can be interpreted as percentage difference, i.e. the benefit for women who complete their tertiary education over men is approximately 4 percent, because 0.332 - 0.371 is 0.04, and adding ln(0.04) is approximately equivalent to an increase of 4 percent. Based on that, what we have here in percentage terms is:"
   ]
  },
  {
   "cell_type": "code",
   "execution_count": 11,
   "metadata": {},
   "outputs": [
    {
     "name": "stdout",
     "output_type": "stream",
     "text": [
      "approximate % benefit over males that females gain by completing a level of education:\n"
     ]
    },
    {
     "data": {
      "text/plain": [
       "fem_secondary    3.87%\n",
       "fem_tertiary     3.92%\n",
       "fem_doctorate     9.4%\n",
       "Name: coef, dtype: object"
      ]
     },
     "metadata": {},
     "output_type": "display_data"
    }
   ],
   "source": [
    "print('approximate % benefit over males that females gain by completing a level of education:')\n",
    "display((round(results_df.loc[['fem_secondary', 'fem_tertiary', 'fem_doctorate'], 'coef']*100, 3).astype(str) + '%'))"
   ]
  },
  {
   "cell_type": "markdown",
   "metadata": {},
   "source": [
    "Overall, the returns to education are positively increasing, and are larger for females."
   ]
  },
  {
   "cell_type": "markdown",
   "metadata": {},
   "source": [
    "## Q2: How is the time/age profile of earnings shaped by education?"
   ]
  },
  {
   "cell_type": "markdown",
   "metadata": {},
   "source": [
    "Now moving on to the second question: How is the time/age profile of earnings shaped by education? <br>\n",
    "\n",
    "To answer this we will first construct a new data frame with dummy interactions between earnings and education level"
   ]
  },
  {
   "cell_type": "code",
   "execution_count": 616,
   "metadata": {},
   "outputs": [
    {
     "name": "stdout",
     "output_type": "stream",
     "text": [
      "                            OLS Regression Results                            \n",
      "==============================================================================\n",
      "Dep. Variable:                 lnearn   R-squared:                       0.249\n",
      "Model:                            OLS   Adj. R-squared:                  0.249\n",
      "Method:                 Least Squares   F-statistic:                     1894.\n",
      "Date:                Sun, 25 Oct 2020   Prob (F-statistic):               0.00\n",
      "Time:                        18:00:53   Log-Likelihood:            -1.3832e+05\n",
      "No. Observations:              206487   AIC:                         2.767e+05\n",
      "Df Residuals:                  206451   BIC:                         2.771e+05\n",
      "Df Model:                          35                                         \n",
      "Covariance Type:                  HC3                                         \n",
      "=================================================================================\n",
      "                    coef    std err          z      P>|z|      [0.025      0.975]\n",
      "---------------------------------------------------------------------------------\n",
      "const             6.1487      0.017    355.173      0.000       6.115       6.183\n",
      "d53              -0.1844      0.003    -64.299      0.000      -0.190      -0.179\n",
      "female           -0.3893      0.002   -184.941      0.000      -0.393      -0.385\n",
      "reform            0.0223      0.002      8.954      0.000       0.017       0.027\n",
      "fe               -0.0007      0.001     -0.801      0.423      -0.003       0.001\n",
      "abil1             0.0179      0.001     27.993      0.000       0.017       0.019\n",
      "age               0.0210      0.000     55.451      0.000       0.020       0.022\n",
      "secondary         0.0773      0.026      2.997      0.003       0.027       0.128\n",
      "tertiary          0.2560      0.032      8.109      0.000       0.194       0.318\n",
      "doctorate         0.3158      0.141      2.236      0.025       0.039       0.593\n",
      "secondary_age     0.0017      0.001      2.999      0.003       0.001       0.003\n",
      "tertiary_age      0.0022      0.001      3.065      0.002       0.001       0.004\n",
      "doctorate_age     0.0027      0.003      0.821      0.412      -0.004       0.009\n",
      "==============================================================================\n",
      "Omnibus:                   127701.706   Durbin-Watson:                   1.964\n",
      "Prob(Omnibus):                  0.000   Jarque-Bera (JB):          2640718.698\n",
      "Skew:                          -2.620   Prob(JB):                         0.00\n",
      "Kurtosis:                      19.718   Cond. No.                     6.40e+03\n",
      "==============================================================================\n",
      "\n"
     ]
    }
   ],
   "source": [
    "# Creating a dataframe with dummy interactions between age and education for secondary, tertiary, and doctorate\n",
    "egea_X_2 = egea_df_X.assign(secondary_age = lambda x: x.age * x.secondary)\n",
    "egea_X_2 = egea_X_2.assign(tertiary_age = lambda x: x.age * x.tertiary)\n",
    "egea_X_2 = egea_X_2.assign(doctorate_age = lambda x: x.age * x.doctorate)\n",
    "# Dropping fem_education for this regression\n",
    "egea_X_2 = egea_X_2.drop(['fem_secondary', 'fem_tertiary', 'fem_doctorate'], axis = 1)\n",
    "\n",
    "# Overall heteroskedastic robust results including all X\n",
    "model = sm.OLS(egea_df_y, egea_X_2).fit(cov_type = 'HC3')\n",
    "model_summary = model.summary().as_text().split('\\n')\n",
    "# removing dummies\n",
    "for li in model_summary:\n",
    "    if li.startswith('Notes'):\n",
    "        break  \n",
    "    if not li.startswith('cou'):\n",
    "        print(li)"
   ]
  },
  {
   "cell_type": "markdown",
   "metadata": {},
   "source": [
    "Immediately it can be seen that introducing this derivative data has significantly increased variance within the age and education level variables. The standard error of the coefficients has increased significantly, and the coefficient on doctorate_age is now not significant at the 5% level. <br>\n",
    "\n",
    "Nevertheless, the general trend that is displayed here is that those who pursue higher education have marginally higher increase in salary year after year. I.e those who have completed tertiary education on average will have salary increases of 1 + .021 (age) + .0022 (tertiary age) = 1.0232 (2.32%) per year. As opposed to those who just did not pursue any further education after compulsory education 2.1% per year. \n",
    "\n",
    "A figure to help us visualize this:"
   ]
  },
  {
   "cell_type": "code",
   "execution_count": 617,
   "metadata": {},
   "outputs": [
    {
     "data": {
      "image/png": "[encoded data removed]",
      "text/plain": [
       "<Figure size 432x288 with 1 Axes>"
      ]
     },
     "metadata": {
      "needs_background": "light"
     },
     "output_type": "display_data"
    }
   ],
   "source": [
    "mean_groups = egea_df[['age', 'd53', 'earn', 'secondary', 'tertiary', 'doctorate']].groupby(['age', 'secondary', 'tertiary', 'doctorate', 'd53'], as_index = False).mean()\n",
    "sub_groups = mean_groups.groupby(['secondary', 'tertiary', 'doctorate', 'd53'])\n",
    "group_list = [sub_groups.get_group(x) for x in sub_groups.groups]\n",
    "\n",
    "for group in group_list:\n",
    "    plt.plot(group.age, group.earn)\n",
    "\n",
    "plt.xlabel('age')\n",
    "plt.ylabel('earnings')\n",
    "plt.title('Earnings overtime for each level of education, across cohort 1 and 2 \\n Higher levels of education correspond to higher lines')\n",
    "plt.annotate('48 birth cohort', (46, 1000))\n",
    "plt.annotate('53 birth cohort', (38, 3000))\n",
    "plt.show()"
   ]
  },
  {
   "cell_type": "markdown",
   "metadata": {},
   "source": [
    "In this figure, what we can see is that there is a slightly higher slope for higher education levels. This visual representation is in line with what we discovered in our regression analysis. \n",
    "\n",
    "So we can conclude that those who have attained a higher level of education are expected to see higher wage growth over time, as reflected by our analysis and our visualization."
   ]
  },
  {
   "cell_type": "markdown",
   "metadata": {},
   "source": [
    "## Q3: What are the differences between men and women in educational attainment and career profiles of earnings? How does the gender gap change with age?\n"
   ]
  },
  {
   "cell_type": "markdown",
   "metadata": {},
   "source": [
    "To address this question we will be using the dependent variable years of schooling. First, some data visualizations. "
   ]
  },
  {
   "cell_type": "code",
   "execution_count": 618,
   "metadata": {},
   "outputs": [
    {
     "name": "stdout",
     "output_type": "stream",
     "text": [
      "Mean years of schooling for male and females are:\n"
     ]
    },
    {
     "data": {
      "text/html": [
       "<div>\n",
       "<style scoped>\n",
       "    .dataframe tbody tr th:only-of-type {\n",
       "        vertical-align: middle;\n",
       "    }\n",
       "\n",
       "    .dataframe tbody tr th {\n",
       "        vertical-align: top;\n",
       "    }\n",
       "\n",
       "    .dataframe thead th {\n",
       "        text-align: right;\n",
       "    }\n",
       "</style>\n",
       "<table border=\"1\" class=\"dataframe\">\n",
       "  <thead>\n",
       "    <tr style=\"text-align: right;\">\n",
       "      <th></th>\n",
       "      <th>yearsch</th>\n",
       "    </tr>\n",
       "    <tr>\n",
       "      <th>female</th>\n",
       "      <th></th>\n",
       "    </tr>\n",
       "  </thead>\n",
       "  <tbody>\n",
       "    <tr>\n",
       "      <th>0.0</th>\n",
       "      <td>11.54423</td>\n",
       "    </tr>\n",
       "    <tr>\n",
       "      <th>1.0</th>\n",
       "      <td>11.62456</td>\n",
       "    </tr>\n",
       "  </tbody>\n",
       "</table>\n",
       "</div>"
      ],
      "text/plain": [
       "         yearsch\n",
       "female          \n",
       "0.0     11.54423\n",
       "1.0     11.62456"
      ]
     },
     "execution_count": 618,
     "metadata": {},
     "output_type": "execute_result"
    }
   ],
   "source": [
    "egea_X_3 = pd.concat([egea_df_X, egea_df['yearsch']], axis = 1)\n",
    "avg_school = egea_X_3[['female', 'yearsch']].groupby('female').mean()\n",
    "print(\"Mean years of schooling for male and females are:\")\n",
    "avg_school"
   ]
  },
  {
   "cell_type": "markdown",
   "metadata": {},
   "source": [
    "Females and males on average complete about the same amount of schooling, with females in fact completing a bit more. "
   ]
  },
  {
   "cell_type": "code",
   "execution_count": 619,
   "metadata": {},
   "outputs": [
    {
     "name": "stdout",
     "output_type": "stream",
     "text": [
      "Percentage of each gender achieving each level of education:\n"
     ]
    },
    {
     "data": {
      "text/html": [
       "<div>\n",
       "<style scoped>\n",
       "    .dataframe tbody tr th:only-of-type {\n",
       "        vertical-align: middle;\n",
       "    }\n",
       "\n",
       "    .dataframe tbody tr th {\n",
       "        vertical-align: top;\n",
       "    }\n",
       "\n",
       "    .dataframe thead th {\n",
       "        text-align: right;\n",
       "    }\n",
       "</style>\n",
       "<table border=\"1\" class=\"dataframe\">\n",
       "  <thead>\n",
       "    <tr style=\"text-align: right;\">\n",
       "      <th></th>\n",
       "      <th>compulsory</th>\n",
       "      <th>secondary</th>\n",
       "      <th>tertiary</th>\n",
       "      <th>doctorate</th>\n",
       "    </tr>\n",
       "    <tr>\n",
       "      <th>female</th>\n",
       "      <th></th>\n",
       "      <th></th>\n",
       "      <th></th>\n",
       "      <th></th>\n",
       "    </tr>\n",
       "  </thead>\n",
       "  <tbody>\n",
       "    <tr>\n",
       "      <th>0.0</th>\n",
       "      <td>58.99%</td>\n",
       "      <td>25.02%</td>\n",
       "      <td>15.09%</td>\n",
       "      <td>0.91%</td>\n",
       "    </tr>\n",
       "    <tr>\n",
       "      <th>1.0</th>\n",
       "      <td>61.42%</td>\n",
       "      <td>24.04%</td>\n",
       "      <td>14.2%</td>\n",
       "      <td>0.34%</td>\n",
       "    </tr>\n",
       "  </tbody>\n",
       "</table>\n",
       "</div>"
      ],
      "text/plain": [
       "       compulsory secondary tertiary doctorate\n",
       "female                                        \n",
       "0.0        58.99%    25.02%   15.09%     0.91%\n",
       "1.0        61.42%    24.04%    14.2%     0.34%"
      ]
     },
     "execution_count": 619,
     "metadata": {},
     "output_type": "execute_result"
    }
   ],
   "source": [
    "# Male and female count:\n",
    "fem_sum = (egea_X_3.female == 0).sum()\n",
    "mal_sun = (egea_X_3.female == 1).sum()\n",
    "\n",
    "edu_counts = egea_df[['female', 'compulsory', 'secondary', 'tertiary', 'doctorate']].groupby('female').sum()\n",
    "edu_percents = round((edu_counts.apply(lambda x: x/x.sum(), axis = 1) * 100), 2).astype(str) + '%'\n",
    "print('Percentage of each gender achieving each level of education:')\n",
    "edu_percents"
   ]
  },
  {
   "cell_type": "markdown",
   "metadata": {},
   "source": [
    "As can be seen here the distribution of genders at each level of education is also similar. The area where there is the greatest discrepancy is at the doctorate level, where males dominate, but that is a small fraction. This should be reflected by small or insignificant coefficients on gender in a regression of years of schooling against our X: "
   ]
  },
  {
   "cell_type": "code",
   "execution_count": 620,
   "metadata": {},
   "outputs": [
    {
     "name": "stdout",
     "output_type": "stream",
     "text": [
      "                            OLS Regression Results                            \n",
      "==============================================================================\n",
      "Dep. Variable:                yearsch   R-squared:                       0.305\n",
      "Model:                            OLS   Adj. R-squared:                  0.305\n",
      "Method:                 Least Squares   F-statistic:                     3232.\n",
      "Date:                Sun, 25 Oct 2020   Prob (F-statistic):               0.00\n",
      "Time:                        18:00:55   Log-Likelihood:            -4.6973e+05\n",
      "No. Observations:              206487   AIC:                         9.395e+05\n",
      "Df Residuals:                  206458   BIC:                         9.398e+05\n",
      "Df Model:                          28                                         \n",
      "Covariance Type:                  HC3                                         \n",
      "==============================================================================\n",
      "                 coef    std err          z      P>|z|      [0.025      0.975]\n",
      "------------------------------------------------------------------------------\n",
      "const         11.2789      0.029    386.125      0.000      11.222      11.336\n",
      "d53           -0.2878      0.012    -24.714      0.000      -0.311      -0.265\n",
      "female        -0.1225      0.010    -11.789      0.000      -0.143      -0.102\n",
      "reform         0.5107      0.013     40.508      0.000       0.486       0.535\n",
      "fe             0.2358      0.005     43.201      0.000       0.225       0.247\n",
      "abil1          0.7202      0.003    262.437      0.000       0.715       0.726\n",
      "==============================================================================\n",
      "Omnibus:                     7307.020   Durbin-Watson:                   1.957\n",
      "Prob(Omnibus):                  0.000   Jarque-Bera (JB):             8113.235\n",
      "Skew:                           0.485   Prob(JB):                         0.00\n",
      "Kurtosis:                       3.039   Cond. No.                         61.3\n",
      "==============================================================================\n",
      "\n"
     ]
    }
   ],
   "source": [
    "egea_y_3 = egea_df['yearsch']\n",
    "egea_X_3 = egea_X_3.drop(['yearsch', 'secondary', 'tertiary', 'doctorate', 'fem_secondary', 'fem_tertiary', 'fem_doctorate', 'age'], axis = 1)\n",
    "\n",
    "model = sm.OLS(egea_y_3, egea_X_3).fit(cov_type = 'HC3')\n",
    "model_summary = model.summary().as_text().split('\\n')\n",
    "\n",
    "# removing dummies\n",
    "for li in model_summary:\n",
    "    if li.startswith('Notes'):\n",
    "        break  \n",
    "    if not li.startswith('cou'):\n",
    "        print(li)"
   ]
  },
  {
   "cell_type": "markdown",
   "metadata": {},
   "source": [
    "The results here show that being female is slightly but significantly negatively correlated with education. This is interesting given that the average education attained by females is in fact higher, suggesting that there are other variables correlated with the female dummy which are explaining that higher average - perhaps ability or the county dummies. <br>"
   ]
  },
  {
   "cell_type": "markdown",
   "metadata": {},
   "source": [
    "Turning to the second part of the question, here is a visualization of how the earnings profile of men and women looks like over time:"
   ]
  },
  {
   "cell_type": "code",
   "execution_count": 621,
   "metadata": {},
   "outputs": [
    {
     "data": {
      "image/png": "[encoded data removed]",
      "text/plain": [
       "<Figure size 432x288 with 2 Axes>"
      ]
     },
     "metadata": {
      "needs_background": "light"
     },
     "output_type": "display_data"
    },
    {
     "data": {
      "image/png": "[encoded data removed]",
      "text/plain": [
       "<Figure size 432x288 with 2 Axes>"
      ]
     },
     "metadata": {
      "needs_background": "light"
     },
     "output_type": "display_data"
    }
   ],
   "source": [
    "# grouping by gender and birth cohort\n",
    "Xy = egea_df[['age', 'd53', 'female', 'lnearn']].groupby(['age', 'female', 'd53'], as_index = False).mean()\n",
    "sub_groups = Xy.groupby(['d53','female'])\n",
    "group_list = [sub_groups.get_group(x) for x in sub_groups.groups]\n",
    "diff_48 = group_list[0].lnearn.values - group_list[1].lnearn.values\n",
    "diff_53 = group_list[2].lnearn.values - group_list[3].lnearn.values\n",
    "\n",
    "group_list = [sub_groups.get_group(x) for x in sub_groups.groups]\n",
    "fig, ax1 = plt.subplots()\n",
    "ax2 = ax1.twinx()\n",
    "lns1 = ax1.plot(group_list[0].age, group_list[0].lnearn, label = 'female')\n",
    "lns2 = ax1.plot(group_list[1].age, group_list[1].lnearn, label = 'male')\n",
    "lns3 = ax2.plot(group_list[1].age, diff_48, label = 'difference', color = 'green')\n",
    "lns = lns1+lns2+lns3\n",
    "labs = [l.get_label() for l in lns]\n",
    "ax1.legend(lns, labs, loc= 'upper left')\n",
    "ax1.set_title('\\'48 cohort age aginst lnearn')\n",
    "ax1.set_xlabel('age')\n",
    "ax1.set_ylabel('lnearn')\n",
    "ax1.set_ylim((6.4, 7.5))\n",
    "ax2.set_ylabel('lenarn difference', color= 'green') \n",
    "ax2.set_ylim((0.3, 0.6))\n",
    "plt.show()\n",
    "\n",
    "fig, ax1 = plt.subplots()\n",
    "ax2 = ax1.twinx()\n",
    "lns1 = ax1.plot(group_list[2].age, group_list[2].lnearn, label = 'female')\n",
    "lns2 = ax1.plot(group_list[3].age, group_list[3].lnearn, label = 'male')\n",
    "lns3 = ax2.plot(group_list[2].age, diff_48, label = 'difference', color = 'green')\n",
    "lns = lns1+lns2+lns3\n",
    "labs = [l.get_label() for l in lns]\n",
    "ax1.legend(lns, labs, loc= 'upper left')\n",
    "ax1.set_title('\\'53 cohort age aginst lnearn')\n",
    "ax1.set_xlabel('age')\n",
    "ax1.set_ylabel('lnearn')\n",
    "ax1.set_ylim((6.3, 7.5))\n",
    "ax2.set_ylabel('lenarn difference', color= 'green') \n",
    "ax2.set_ylim((0.3, 0.6))\n",
    "plt.show()"
   ]
  },
  {
   "cell_type": "markdown",
   "metadata": {},
   "source": [
    "These figures visualize the decrease in the gap between lnearn for males and females as age increases. Now carrying out a regression to verify this. "
   ]
  },
  {
   "cell_type": "code",
   "execution_count": 622,
   "metadata": {},
   "outputs": [
    {
     "name": "stdout",
     "output_type": "stream",
     "text": [
      "                            OLS Regression Results                            \n",
      "==============================================================================\n",
      "Dep. Variable:                 lnearn   R-squared:                       0.250\n",
      "Model:                            OLS   Adj. R-squared:                  0.250\n",
      "Method:                 Least Squares   F-statistic:                     1870.\n",
      "Date:                Sun, 25 Oct 2020   Prob (F-statistic):               0.00\n",
      "Time:                        18:00:57   Log-Likelihood:            -1.3817e+05\n",
      "No. Observations:              206487   AIC:                         2.764e+05\n",
      "Df Residuals:                  206450   BIC:                         2.768e+05\n",
      "Df Model:                          36                                         \n",
      "Covariance Type:                  HC3                                         \n",
      "=================================================================================\n",
      "                    coef    std err          z      P>|z|      [0.025      0.975]\n",
      "---------------------------------------------------------------------------------\n",
      "const             6.2674      0.018    345.949      0.000       6.232       6.303\n",
      "d53              -0.1838      0.003    -64.005      0.000      -0.189      -0.178\n",
      "female           -0.7029      0.022    -31.441      0.000      -0.747      -0.659\n",
      "reform            0.0222      0.002      8.940      0.000       0.017       0.027\n",
      "fe               -0.0007      0.001     -0.817      0.414      -0.003       0.001\n",
      "abil1             0.0180      0.001     28.190      0.000       0.017       0.019\n",
      "age               0.0182      0.000     45.500      0.000       0.017       0.019\n",
      "secondary         0.1335      0.004     37.059      0.000       0.126       0.141\n",
      "tertiary          0.3334      0.005     73.372      0.000       0.324       0.342\n",
      "doctorate         0.3720      0.035     10.732      0.000       0.304       0.440\n",
      "fem_secondary     0.0388      0.005      7.961      0.000       0.029       0.048\n",
      "fem_tertiary      0.0367      0.006      6.160      0.000       0.025       0.048\n",
      "fem_doctorate     0.0866      0.037      2.346      0.019       0.014       0.159\n",
      "fem_age           0.0074      0.000     14.854      0.000       0.006       0.008\n",
      "==============================================================================\n",
      "Omnibus:                   127612.311   Durbin-Watson:                   1.964\n",
      "Prob(Omnibus):                  0.000   Jarque-Bera (JB):          2639565.129\n",
      "Skew:                          -2.617   Prob(JB):                         0.00\n",
      "Kurtosis:                      19.715   Cond. No.                     1.86e+03\n",
      "==============================================================================\n",
      "\n"
     ]
    }
   ],
   "source": [
    "# adding a female age interaction\n",
    "X = egea_df_X.assign(fem_age = lambda x: x.age * x.female)\n",
    "model = sm.OLS(egea_df_y, X).fit(cov_type = 'HC3')\n",
    "model_summary = model.summary().as_text().split('\\n')\n",
    "\n",
    "# removing dummies\n",
    "for li in model_summary:\n",
    "    if li.startswith('Notes'):\n",
    "        break  \n",
    "    if not li.startswith('cou'):\n",
    "        print(li)"
   ]
  },
  {
   "cell_type": "markdown",
   "metadata": {},
   "source": [
    "Here we see the positive interaction between the female dummy and age, which implies that the gender gap will decrease over time. <br>\n",
    "Overall, the data suggests that there is minimal difference between men and women in terms of educational attainment (years studied) and that the gender gap decreases with age (but never disappears). The mechanism for this is unclear, perhaps as a woman ages and her status increases, she is able to demand more equitable pay, as compared to when she was young and she might not have had the ability to fight for fair wages. "
   ]
  },
  {
   "cell_type": "markdown",
   "metadata": {},
   "source": [
    "## Q4 what is the role of ability in shaping the returns to education and the age profile of earnings? Does this differ by gender?"
   ]
  },
  {
   "cell_type": "code",
   "execution_count": 623,
   "metadata": {},
   "outputs": [
    {
     "name": "stdout",
     "output_type": "stream",
     "text": [
      "                            OLS Regression Results                            \n",
      "==============================================================================\n",
      "Dep. Variable:                 lnearn   R-squared:                       0.250\n",
      "Model:                            OLS   Adj. R-squared:                  0.250\n",
      "Method:                 Least Squares   F-statistic:                     1909.\n",
      "Date:                Sun, 25 Oct 2020   Prob (F-statistic):               0.00\n",
      "Time:                        18:00:58   Log-Likelihood:            -1.3825e+05\n",
      "No. Observations:              206487   AIC:                         2.766e+05\n",
      "Df Residuals:                  206451   BIC:                         2.769e+05\n",
      "Df Model:                          35                                         \n",
      "Covariance Type:                  HC3                                         \n",
      "==============================================================================\n",
      "                 coef    std err          z      P>|z|      [0.025      0.975]\n",
      "------------------------------------------------------------------------------\n",
      "const          6.1134      0.014    430.120      0.000       6.086       6.141\n",
      "d53           -0.1837      0.003    -64.045      0.000      -0.189      -0.178\n",
      "female        -0.3889      0.002   -184.931      0.000      -0.393      -0.385\n",
      "reform         0.0220      0.002      8.855      0.000       0.017       0.027\n",
      "fe            -0.0007      0.001     -0.788      0.431      -0.002       0.001\n",
      "abil1          0.0175      0.001     19.820      0.000       0.016       0.019\n",
      "age            0.0218      0.000     70.418      0.000       0.021       0.022\n",
      "secondary      0.1606      0.003     61.811      0.000       0.155       0.166\n",
      "tertiary       0.3233      0.004     73.797      0.000       0.315       0.332\n",
      "doctorate      0.3288      0.023     14.488      0.000       0.284       0.373\n",
      "abil_sec      -0.0071      0.001     -5.041      0.000      -0.010      -0.004\n",
      "abil_tert      0.0162      0.002      8.773      0.000       0.013       0.020\n",
      "abil_doct      0.0422      0.008      5.505      0.000       0.027       0.057\n",
      "==============================================================================\n",
      "Omnibus:                   127668.651   Durbin-Watson:                   1.964\n",
      "Prob(Omnibus):                  0.000   Jarque-Bera (JB):          2638350.500\n",
      "Skew:                          -2.619   Prob(JB):                         0.00\n",
      "Kurtosis:                      19.710   Cond. No.                     1.23e+03\n",
      "==============================================================================\n",
      "\n"
     ]
    }
   ],
   "source": [
    "# Make dummy interactions between education dummies and ability\n",
    "X = egea_df_X.drop(['fem_secondary', 'fem_tertiary', 'fem_doctorate'], axis = 1)\n",
    "X = X.assign(abil_sec = lambda x: x.abil1 * x.secondary)\n",
    "X = X.assign(abil_tert = lambda x: x.abil1 * x.tertiary)\n",
    "X = X.assign(abil_doct = lambda x: x.abil1 * x.doctorate)\n",
    "model = sm.OLS(egea_df_y, X).fit(cov_type = 'HC3')\n",
    "model_summary = model.summary().as_text().split('\\n')\n",
    "\n",
    "# removing dummies\n",
    "for li in model_summary:\n",
    "    if li.startswith('Notes'):\n",
    "        break  \n",
    "    if not li.startswith('cou'):\n",
    "        print(li)"
   ]
  },
  {
   "cell_type": "markdown",
   "metadata": {},
   "source": [
    "What we see in this regression is positive interactions between ability and higher education. For those who have completed tertiary education, the returns to ability double (0.0175 + 0.0162), and the affect is larger for those who have obtained a doctorate. The causality of this relationship seems plausible, it makes sense that if a smart person has access to a education they are going to have higher returns then a person who might struggle to get their degree. It is also interesting that there is a negative (although small) coefficient on abil_sec, this might be reflecting that the earnings of those with just a secondary education does not depend as much on this measure of ability, but perhaps more on a measure such as technical skill or soft skills. Whatever the true reason, it is interesting that the returns to ability for those who have only completed compulsory education is higher than for those who completed secondary. <br>"
   ]
  },
  {
   "cell_type": "markdown",
   "metadata": {},
   "source": [
    "Now the same regression with a female dummy interaction added to see if there is any gender based differences in returns to education. "
   ]
  },
  {
   "cell_type": "code",
   "execution_count": 624,
   "metadata": {},
   "outputs": [
    {
     "name": "stdout",
     "output_type": "stream",
     "text": [
      "                            OLS Regression Results                            \n",
      "==============================================================================\n",
      "Dep. Variable:                 lnearn   R-squared:                       0.250\n",
      "Model:                            OLS   Adj. R-squared:                  0.250\n",
      "Method:                 Least Squares   F-statistic:                     1721.\n",
      "Date:                Sun, 25 Oct 2020   Prob (F-statistic):               0.00\n",
      "Time:                        18:00:59   Log-Likelihood:            -1.3824e+05\n",
      "No. Observations:              206487   AIC:                         2.766e+05\n",
      "Df Residuals:                  206447   BIC:                         2.770e+05\n",
      "Df Model:                          39                                         \n",
      "Covariance Type:                  HC3                                         \n",
      "=================================================================================\n",
      "                    coef    std err          z      P>|z|      [0.025      0.975]\n",
      "---------------------------------------------------------------------------------\n",
      "const             6.1140      0.014    429.760      0.000       6.086       6.142\n",
      "d53              -0.1835      0.003    -63.967      0.000      -0.189      -0.178\n",
      "female           -0.3880      0.002   -160.611      0.000      -0.393      -0.383\n",
      "reform            0.0218      0.002      8.753      0.000       0.017       0.027\n",
      "fe               -0.0008      0.001     -0.854      0.393      -0.003       0.001\n",
      "abil1             0.0200      0.001     15.298      0.000       0.017       0.023\n",
      "age               0.0218      0.000     70.405      0.000       0.021       0.022\n",
      "secondary         0.1607      0.003     60.798      0.000       0.155       0.166\n",
      "tertiary          0.3232      0.004     73.643      0.000       0.315       0.332\n",
      "doctorate         0.3327      0.023     14.759      0.000       0.289       0.377\n",
      "abil_sec         -0.0077      0.002     -3.849      0.000      -0.012      -0.004\n",
      "abil_tert         0.0170      0.002      6.969      0.000       0.012       0.022\n",
      "abil_doct         0.0478      0.008      5.975      0.000       0.032       0.063\n",
      "abil1_fem        -0.0047      0.002     -2.735      0.006      -0.008      -0.001\n",
      "abil_sec_fem      0.0008      0.003      0.279      0.781      -0.005       0.006\n",
      "abil_tert_fem    -0.0020      0.003     -0.674      0.500      -0.008       0.004\n",
      "abil_doct_fem    -0.0250      0.011     -2.210      0.027      -0.047      -0.003\n",
      "==============================================================================\n",
      "Omnibus:                   127670.184   Durbin-Watson:                   1.964\n",
      "Prob(Omnibus):                  0.000   Jarque-Bera (JB):          2637247.458\n",
      "Skew:                          -2.619   Prob(JB):                         0.00\n",
      "Kurtosis:                      19.706   Cond. No.                     1.23e+03\n",
      "==============================================================================\n",
      "\n"
     ]
    }
   ],
   "source": [
    "# Make dummy interactions between education dummies and ability\n",
    "X = X.assign(abil1_fem = lambda x: x.abil1 * x.female)\n",
    "X = X.assign(abil_sec_fem = lambda x: x.abil_sec * x.female)\n",
    "X = X.assign(abil_tert_fem = lambda x: x.abil_tert * x.female)\n",
    "X = X.assign(abil_doct_fem = lambda x: x.abil_doct * x.female)\n",
    "model = sm.OLS(egea_df_y, X).fit(cov_type = 'HC3')\n",
    "model_summary = model.summary().as_text().split('\\n')\n",
    "\n",
    "# removing dummies\n",
    "for li in model_summary:\n",
    "    if li.startswith('Notes'):\n",
    "        break  \n",
    "    if not li.startswith('cou'):\n",
    "        print(li)"
   ]
  },
  {
   "cell_type": "markdown",
   "metadata": {},
   "source": [
    "At a 1 percent significance level, the returns to ability for females are lower than they are for males (abil1_fem = -0.0047), however, this is not a particularly large effect. Further, this regression is unable to say that the additional returns to ability for females who have obtained a secondary or tertiary level of education (abil_sec_fem and abil_tert_fem) are statistically different from 0. We do, however, see significantly lower returns to education for female doctorate holders. However, this is a small sample in our data set, more data collection would need to be done to verify this relationship.   \n",
    "\n",
    "Here is a visualization of what this looks like:"
   ]
  },
  {
   "cell_type": "code",
   "execution_count": 625,
   "metadata": {},
   "outputs": [
    {
     "data": {
      "image/png": "[encoded data removed]",
      "text/plain": [
       "<Figure size 432x288 with 1 Axes>"
      ]
     },
     "metadata": {
      "needs_background": "light"
     },
     "output_type": "display_data"
    }
   ],
   "source": [
    "# Turning results table into operable dataframe\n",
    "results_as_html = model.summary().tables[1].as_html()\n",
    "results_df = pd.read_html(results_as_html, header=0, index_col=0)[0]\n",
    "\n",
    "# extracting ability coeffeicients\n",
    "abil = results_df.loc['abil1', 'coef']\n",
    "fem_abil = abil_coef + results_df.loc['abil1_fem', 'coef']\n",
    "sec_abil = abil + results_df.loc['abil_sec', 'coef']\n",
    "sec_abil_fem = fem_abil + results_df.loc['abil_sec', 'coef'] + results_df.loc['abil_sec_fem', 'coef']\n",
    "tert_abil = abil + results_df.loc['abil_tert', 'coef']\n",
    "tert_abil_fem =  fem_abil + results_df.loc['abil_tert', 'coef'] + results_df.loc['abil_tert_fem', 'coef']\n",
    "doct_abil = abil + results_df.loc['abil_doct', 'coef']\n",
    "doct_abil_fem = fem_abil + results_df.loc['abil_doct', 'coef'] + results_df.loc['abil_doct_fem', 'coef']\n",
    "\n",
    "m_coefs = [abil, sec_abil, tert_abil, doct_abil]\n",
    "f_coefs = [fem_abil, sec_abil_fem, tert_abil_fem, doct_abil_fem]\n",
    "\n",
    "# making bar graph\n",
    "labels = ['compulsory', 'secondary', 'tertiary', 'doctorate']\n",
    "x = np.arange(len(labels))\n",
    "width = 0.3\n",
    "fig, ax = plt.subplots()\n",
    "rects1 = ax.bar(x - width/2, m_coefs, width, label='male returns to ability')\n",
    "rects2 = ax.bar(x + width/2, f_coefs, width, label='female returns to ability')\n",
    "\n",
    "ax.set_ylabel('Coefficient')\n",
    "ax.set_title('Effect of ability on returns to education')\n",
    "ax.set_xticks(x)\n",
    "ax.set_xticklabels(labels)\n",
    "ax.set_ylim(0, 0.08)\n",
    "ax.legend(loc = 'upper left')\n",
    "\n",
    "def autolabel(rects):\n",
    "    \"\"\"Attach a text label above each bar in *rects*, displaying its height.\"\"\"\n",
    "    for rect in rects:\n",
    "        height = round(rect.get_height(), 3)\n",
    "        ax.annotate('{}'.format(height),\n",
    "                    xy=(rect.get_x() + rect.get_width() / 2, height),\n",
    "                    xytext=(0, 3),  # 3 points vertical offset\n",
    "                    textcoords=\"offset points\",\n",
    "                    ha='center', va='bottom')\n",
    "\n",
    "autolabel(rects1)\n",
    "autolabel(rects2)\n",
    "\n",
    "fig.tight_layout()\n",
    "plt.show()"
   ]
  },
  {
   "cell_type": "markdown",
   "metadata": {},
   "source": [
    "As can be seen, the returns to ability given education is lower for women. This is particularly interesting considering that the returns to education for women is higher than that for men (as found above). A plausible explanation for this might be that women get more out of education regardless of inherent ability (perhaps due to a stronger work ethic), whereas males without strong ability might not be able to take as well advantage of the resources of a learning institution. Isolating the causality here would be an interesting exercise.  "
   ]
  },
  {
   "cell_type": "markdown",
   "metadata": {},
   "source": [
    "To explore the effect of ability on the age profile of earnings, we will divide the ability variable into 4 dummies of first_q_abil, second_q_abil, third_q_abil and fourth_q_abil (four quartiles) and see how these dummies interact with the age variable when predicting earnings. "
   ]
  },
  {
   "cell_type": "code",
   "execution_count": 626,
   "metadata": {},
   "outputs": [
    {
     "name": "stdout",
     "output_type": "stream",
     "text": [
      "                            OLS Regression Results                            \n",
      "==============================================================================\n",
      "Dep. Variable:                 lnearn   R-squared:                       0.249\n",
      "Model:                            OLS   Adj. R-squared:                  0.249\n",
      "Method:                 Least Squares   F-statistic:                     1804.\n",
      "Date:                Sun, 25 Oct 2020   Prob (F-statistic):               0.00\n",
      "Time:                        18:01:00   Log-Likelihood:            -1.3835e+05\n",
      "No. Observations:              206487   AIC:                         2.768e+05\n",
      "Df Residuals:                  206449   BIC:                         2.772e+05\n",
      "Df Model:                          37                                         \n",
      "Covariance Type:                  HC3                                         \n",
      "=================================================================================\n",
      "                    coef    std err          z      P>|z|      [0.025      0.975]\n",
      "---------------------------------------------------------------------------------\n",
      "const             6.1048      0.014    428.546      0.000       6.077       6.133\n",
      "d53              -0.1834      0.003    -63.816      0.000      -0.189      -0.178\n",
      "female           -0.3731      0.003   -134.864      0.000      -0.379      -0.368\n",
      "reform            0.0219      0.002      8.784      0.000       0.017       0.027\n",
      "fe               -0.0005      0.001     -0.538      0.590      -0.002       0.001\n",
      "age               0.0208      0.000     66.598      0.000       0.020       0.021\n",
      "secondary         0.1384      0.004     38.468      0.000       0.131       0.145\n",
      "tertiary          0.3405      0.005     75.386      0.000       0.332       0.349\n",
      "doctorate         0.3799      0.035     10.925      0.000       0.312       0.448\n",
      "age_abilq2        0.0007   6.61e-05     10.196      0.000       0.001       0.001\n",
      "age_abilq3        0.0011   6.77e-05     16.101      0.000       0.001       0.001\n",
      "age_abilq4        0.0019   7.61e-05     25.308      0.000       0.002       0.002\n",
      "==============================================================================\n",
      "Omnibus:                   127548.702   Durbin-Watson:                   1.964\n",
      "Prob(Omnibus):                  0.000   Jarque-Bera (JB):          2632545.834\n",
      "Skew:                          -2.616   Prob(JB):                         0.00\n",
      "Kurtosis:                      19.692   Cond. No.                     1.79e+03\n",
      "==============================================================================\n",
      "\n"
     ]
    }
   ],
   "source": [
    "# make quartiles\n",
    "egea_df_X['abil_quartiles'] = pd.qcut(egea_df_X['abil1'], 4, labels=False) + 1\n",
    "# put them into df\n",
    "X = pd.concat([egea_df_X, pd.get_dummies(egea_df_X.abil_quartiles.astype(str), prefix = 'abil_quart')], axis = 1)\n",
    "# create dummy interactions with age\n",
    "X = X.assign(age_abilq2 = lambda x: x.age * x.abil_quart_2)\n",
    "X = X.assign(age_abilq3 = lambda x: x.age * x.abil_quart_3)\n",
    "X = X.assign(age_abilq4 = lambda x: x.age * x.abil_quart_4)\n",
    "# Drop unneccessary columns\n",
    "X = X.drop(['abil_quartiles', 'abil1', 'abil_quart_1', 'abil_quart_2', 'abil_quart_3', 'abil_quart_4'], axis = 1)\n",
    "\n",
    "# plot\n",
    "model = sm.OLS(egea_df_y, X).fit(cov_type = 'HC3')\n",
    "model_summary = model.summary().as_text().split('\\n')\n",
    "\n",
    "# removing dummies\n",
    "for li in model_summary:\n",
    "    if li.startswith('Notes'):\n",
    "        break  \n",
    "    if not li.startswith('cou') and not li.startswith('fem_'):\n",
    "        print(li)"
   ]
  },
  {
   "cell_type": "markdown",
   "metadata": {},
   "source": [
    "What we see here is that ability is positively correlated with wage growth over time - people with higher abilities on average have higher yearly wage increases. These results are statistically significant, however, the affect is not too pronounced - for example being in quartile four for ability only increases yearly wage growth by approx .19% (0.0019). \n",
    "\n",
    "Now checking if these affects vary across gender. "
   ]
  },
  {
   "cell_type": "code",
   "execution_count": 627,
   "metadata": {},
   "outputs": [
    {
     "name": "stdout",
     "output_type": "stream",
     "text": [
      "                            OLS Regression Results                            \n",
      "==============================================================================\n",
      "Dep. Variable:                 lnearn   R-squared:                       0.250\n",
      "Model:                            OLS   Adj. R-squared:                  0.250\n",
      "Method:                 Least Squares   F-statistic:                     1639.\n",
      "Date:                Sun, 25 Oct 2020   Prob (F-statistic):               0.00\n",
      "Time:                        18:01:01   Log-Likelihood:            -1.3823e+05\n",
      "No. Observations:              206487   AIC:                         2.765e+05\n",
      "Df Residuals:                  206445   BIC:                         2.770e+05\n",
      "Df Model:                          41                                         \n",
      "Covariance Type:                  HC3                                         \n",
      "=================================================================================\n",
      "                    coef    std err          z      P>|z|      [0.025      0.975]\n",
      "---------------------------------------------------------------------------------\n",
      "const             6.2666      0.018    345.072      0.000       6.231       6.302\n",
      "d53              -0.1834      0.003    -63.887      0.000      -0.189      -0.178\n",
      "reform            0.0219      0.002      8.790      0.000       0.017       0.027\n",
      "fe               -0.0006      0.001     -0.640      0.522      -0.002       0.001\n",
      "age               0.0171      0.000     42.166      0.000       0.016       0.018\n",
      "secondary         0.1388      0.004     37.505      0.000       0.132       0.146\n",
      "tertiary          0.3430      0.005     72.373      0.000       0.334       0.352\n",
      "doctorate         0.3856      0.035     11.071      0.000       0.317       0.454\n",
      "age_abilq2        0.0010   9.09e-05     10.806      0.000       0.001       0.001\n",
      "age_abilq3        0.0013   9.45e-05     13.350      0.000       0.001       0.001\n",
      "age_abilq4        0.0021      0.000     18.879      0.000       0.002       0.002\n",
      "age_fe            0.0077      0.001     15.177      0.000       0.007       0.009\n",
      "age_abilq2_fe    -0.0007      0.000     -5.062      0.000      -0.001      -0.000\n",
      "age_abilq3_fe    -0.0004      0.000     -2.792      0.005      -0.001      -0.000\n",
      "age_abil4_fe     -0.0004      0.000     -2.496      0.013      -0.001   -8.16e-05\n",
      "==============================================================================\n",
      "Omnibus:                   127522.038   Durbin-Watson:                   1.964\n",
      "Prob(Omnibus):                  0.000   Jarque-Bera (JB):          2635998.875\n",
      "Skew:                          -2.615   Prob(JB):                         0.00\n",
      "Kurtosis:                      19.704   Cond. No.                     2.06e+03\n",
      "==============================================================================\n",
      "\n"
     ]
    }
   ],
   "source": [
    "# create dummy interactions with fem\n",
    "X = X.assign(age_fe = lambda x: x.age * x.female)\n",
    "X = X.assign(age_abilq2_fe = lambda x: x.age_abilq2 * x.female)\n",
    "X = X.assign(age_abilq3_fe = lambda x: x.age_abilq3 * x.female)\n",
    "X = X.assign(age_abil4_fe = lambda x: x.age_abilq4 * x.female)\n",
    "\n",
    "# plot\n",
    "model = sm.OLS(egea_df_y, X).fit(cov_type = 'HC3')\n",
    "model_summary = model.summary().as_text().split('\\n')\n",
    "\n",
    "# removing dummies\n",
    "for li in model_summary:\n",
    "    if li.startswith('Notes'):\n",
    "        break  \n",
    "    if not li.startswith('cou') and not li.startswith('fem'):\n",
    "        print(li)"
   ]
  },
  {
   "cell_type": "markdown",
   "metadata": {},
   "source": [
    "As found above, females have higher increases in wage as they age (age_fe = 0.0077), but what we see here, is that in terms of ability, the wages of women don't diverge as much as those for men do. Essentially, although womens wages grow faster with age than males do, they do it more uniformly than males, with all educations levels increasing at a more similar rate. Here is a visualization of this trend:"
   ]
  },
  {
   "cell_type": "code",
   "execution_count": 688,
   "metadata": {},
   "outputs": [
    {
     "data": {
      "image/png": "[encoded data removed]",
      "text/plain": [
       "<Figure size 576x432 with 1 Axes>"
      ]
     },
     "metadata": {
      "needs_background": "light"
     },
     "output_type": "display_data"
    },
    {
     "data": {
      "image/png": "[encoded data removed]",
      "text/plain": [
       "<Figure size 576x432 with 1 Axes>"
      ]
     },
     "metadata": {
      "needs_background": "light"
     },
     "output_type": "display_data"
    }
   ],
   "source": [
    "# Extracting the data\n",
    "egea_df['abil_quartiles'] = pd.qcut(egea_df_X['abil1'], 4, labels=False) + 1\n",
    "groups = egea_df[['d53', 'lnearn', 'abil_quartiles', 'female', 'age']].groupby(['d53', 'female', 'age', 'abil_quartiles'], as_index = False).mean()\n",
    "sub_groups = groups.groupby(['d53', 'female', 'abil_quartiles'])\n",
    "group_list = [sub_groups.get_group(x) for x in sub_groups.groups]\n",
    "\n",
    "# Making figures\n",
    "plt.figure(figsize = (8, 6))\n",
    "i = 1\n",
    "for group in group_list[0:4]:\n",
    "    label = 'female' if any(group.female) else 'male' \n",
    "    plt.plot(group.age, group.lnearn, label = f'{label} quartile {i}')\n",
    "    if i % 4 == 0:\n",
    "        i = 0\n",
    "    i += 1\n",
    "plt.title('wages over time for males of different ability in \\'48 cohort')\n",
    "plt.xlabel('age')\n",
    "plt.ylabel('lnearn')\n",
    "plt.legend()\n",
    "plt.show()\n",
    "\n",
    "plt.figure(figsize = (8, 6))\n",
    "for group in group_list[4:8]:\n",
    "    label = 'female' if any(group.female) else 'male' \n",
    "    plt.plot(group.age, group.lnearn, label = f'{label} quartile {i}')\n",
    "    if i % 4 == 0:\n",
    "        i = 0\n",
    "    i += 1\n",
    "    \n",
    "plt.title('wages over time for females of different ability in \\'48 cohort')\n",
    "plt.xlabel('age')\n",
    "plt.ylabel('lnearn')\n",
    "plt.legend()\n",
    "plt.show()"
   ]
  },
  {
   "cell_type": "markdown",
   "metadata": {},
   "source": [
    "What we see here is in fact much more similarity between ability level than dissimilarity. As noted before, the wages for women climb at a higher rate, which we can visibily see, however, the difference in growth rates between ability levels is very indistinct. If at all, this discrepancy might be seen in the first figure between the 1st and 4th ability level, the 4th ability level (red line) does seem to climb at a marginally higher rate. <br>\n",
    "Overall, the data in this sample suggests that higher ability people enjoy higher returns to education and that they will also experience marginally quicker wage growth over their career. "
   ]
  },
  {
   "cell_type": "markdown",
   "metadata": {},
   "source": [
    "## Conclusion"
   ]
  },
  {
   "cell_type": "markdown",
   "metadata": {},
   "source": [
    "Based on the analysis carried out in this report, we can answer the following focus questions as such:\n",
    "1. What are the returns to education and how do they differ by gender? <br>\n",
    "The returns to education are large and increasing with education level, and females have higher returns to education than males. \n",
    "2. How is the time/age profile of earnings shaped by education?<br>\n",
    "Those with a better education will see faster wage growth over time. \n",
    "3. What are the differences between men and women in educational attainment and career profiles of earnings and how does the gender gap change with age?<br>\n",
    "Educational attainment between men and women is similar except for at the doctorate level. If anything, there was a slight negative coefficient on educational attainment against being female, but female also on average study for marginally longer than males. In terms of the gender gap, it was found that the gap decreases over time, with females enjoying faster wage growth over time.\n",
    "4. What is the role of ability in shaping the returns to education? Does this differ by gender <br>\n",
    "Ability has a positive typically increasing effect on the returns to education. There is a slight difference between gender, with women not seeing as positive of a relationship, but this difference is slight.   <br>\n",
    "\n",
    "This report has found clear relationships between education ability and earnings, and has also illustrated the different interactions that males and females have between these variables, however, there is still much work to be done in establishing the causality of the results found. Future research might seek to answer questions such as why does the gender gap decrease over time? Or why is higher education correlated with higher wage growt and is the relationship causal? In this vitally important area of research, finding robust answers to these questions is deeply important. "
   ]
  },
  {
   "cell_type": "code",
   "execution_count": null,
   "metadata": {},
   "outputs": [],
   "source": []
  }
 ],
 "metadata": {
  "kernelspec": {
   "display_name": "Python 3",
   "language": "python",
   "name": "python3"
  },
  "language_info": {
   "codemirror_mode": {
    "name": "ipython",
    "version": 3
   },
   "file_extension": ".py",
   "mimetype": "text/x-python",
   "name": "python",
   "nbconvert_exporter": "python",
   "pygments_lexer": "ipython3",
   "version": "3.8.2"
  }
 },
 "nbformat": 4,
 "nbformat_minor": 4
}
